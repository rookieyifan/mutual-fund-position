{
 "cells": [
  {
   "cell_type": "code",
   "execution_count": 90,
   "metadata": {},
   "outputs": [],
   "source": [
    "import random\n",
    "import numpy as np\n",
    "\n",
    "random.seed(2)"
   ]
  },
  {
   "cell_type": "markdown",
   "metadata": {},
   "source": [
    "以第一个骑士坐下的位置为起点，将圆桌按顺时针方向编号1-N。\n",
    "由题意：\n",
    "+ 两个相邻的骑士之间一定隔了1张或2张椅子。\n",
    "+ 第N个椅子不能坐。"
   ]
  },
  {
   "cell_type": "code",
   "execution_count": 105,
   "metadata": {},
   "outputs": [],
   "source": [
    "# 生成一个1*N列表 0代表没人坐 1代表有人坐\n",
    "def emptyChairs(N):\n",
    "    chairs = [0 for _ in range(N)]\n",
    "\n",
    "    next_chair = 0                  # 下一个做人的椅子编号\n",
    "    while next_chair < N-1:         # 最后一个椅子chairs[N-1]不坐人 \n",
    "        chairs[next_chair] = 1\n",
    "        gap = random.randint(2, 3)  # 下一个人和上一个人之间间隔的椅子数 为1或者2\n",
    "        next_chair += gap\n",
    "    \n",
    "    n_not_empty = np.sum(chairs)    # 坐人的椅子数\n",
    "    n_empty = N - n_not_empty       # 空着的椅子数\n",
    "    \n",
    "    return n_empty"
   ]
  },
  {
   "cell_type": "code",
   "execution_count": 106,
   "metadata": {},
   "outputs": [],
   "source": [
    "def monteCarlo(func, N=6, trials=10000):\n",
    "    \n",
    "    record = []\n",
    "    for _ in range(trials):\n",
    "        record.append(func(N))\n",
    "    \n",
    "    return np.mean(record)"
   ]
  },
  {
   "cell_type": "code",
   "execution_count": 96,
   "metadata": {},
   "outputs": [
    {
     "data": {
      "text/plain": [
       "2.0"
      ]
     },
     "execution_count": 96,
     "metadata": {},
     "output_type": "execute_result"
    }
   ],
   "source": [
    "monteCarlo(emptyChairs, N=3, trials=100000)"
   ]
  },
  {
   "cell_type": "code",
   "execution_count": 107,
   "metadata": {},
   "outputs": [
    {
     "data": {
      "text/plain": [
       "2.49828"
      ]
     },
     "execution_count": 107,
     "metadata": {},
     "output_type": "execute_result"
    }
   ],
   "source": [
    "monteCarlo(emptyChairs, N=4, trials=100000)"
   ]
  },
  {
   "cell_type": "code",
   "execution_count": 93,
   "metadata": {},
   "outputs": [
    {
     "data": {
      "text/plain": [
       "3.750079"
      ]
     },
     "execution_count": 93,
     "metadata": {},
     "output_type": "execute_result"
    }
   ],
   "source": [
    "monteCarlo(emptyChairs, N=6, trials=100000)"
   ]
  },
  {
   "cell_type": "code",
   "execution_count": 94,
   "metadata": {},
   "outputs": [
    {
     "data": {
      "text/plain": [
       "6.06253"
      ]
     },
     "execution_count": 94,
     "metadata": {},
     "output_type": "execute_result"
    }
   ],
   "source": [
    "monteCarlo(emptyChairs, N=10, trials=100000)"
   ]
  },
  {
   "cell_type": "code",
   "execution_count": 95,
   "metadata": {},
   "outputs": [
    {
     "data": {
      "text/plain": [
       "30.07931"
      ]
     },
     "execution_count": 95,
     "metadata": {},
     "output_type": "execute_result"
    }
   ],
   "source": [
    "monteCarlo(emptyChairs, N=50, trials=100000)"
   ]
  }
 ],
 "metadata": {
  "kernelspec": {
   "display_name": "Python 3",
   "language": "python",
   "name": "python3"
  },
  "language_info": {
   "codemirror_mode": {
    "name": "ipython",
    "version": 3
   },
   "file_extension": ".py",
   "mimetype": "text/x-python",
   "name": "python",
   "nbconvert_exporter": "python",
   "pygments_lexer": "ipython3",
   "version": "3.7.6"
  }
 },
 "nbformat": 4,
 "nbformat_minor": 4
}
