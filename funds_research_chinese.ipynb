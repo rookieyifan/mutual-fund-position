{
 "cells": [
  {
   "cell_type": "markdown",
   "metadata": {},
   "source": [
    "## 基于公募基金重仓数据的因子策略\n",
    "\n",
    "$Yifan \\space Zhang$ \n",
    "\n",
    "$2020.11$"
   ]
  },
  {
   "cell_type": "markdown",
   "metadata": {},
   "source": [
    "### 背景及思路：\n",
    "+ 公募基金在每个季度结束后的15个交易日内披露前十大重仓股数据，包括持股代码、持仓市值、占基金股票投资比例等信息\n",
    "+ 通过公募基金过去一段时间的净值表现、产品规模等信息可以对基金进行筛选构建优选基金池\n",
    "+ 基于优选基金池的季度重仓数据构造因子对股票进行打分，选取得分靠前的一定数量股票持有"
   ]
  },
  {
   "cell_type": "code",
   "execution_count": 2,
   "metadata": {},
   "outputs": [],
   "source": [
    "import os\n",
    "import pandas as pd\n",
    "import numpy as np\n",
    "from tqdm import *\n",
    "# from WindPy import w\n",
    "import seaborn as sns\n",
    "import matplotlib.pyplot as plt\n",
    "from datetime import datetime\n",
    "\n",
    "plt.style.use('seaborn')\n",
    "plt.rcParams['axes.unicode_minus'] = False\n",
    "plt.rcParams['font.sans-serif'] = ['SimHei'] # 指定默认字体"
   ]
  },
  {
   "cell_type": "markdown",
   "metadata": {},
   "source": [
    "### Step 1：基金数据获取"
   ]
  },
  {
   "cell_type": "markdown",
   "metadata": {},
   "source": [
    "需要获取的数据包括：\n",
    "+ 普通股票型基金、混合型基金和灵活配置型基金的基本信息，包括基金代码、基金公司、基金类型等\n",
    "+ 基金的每日净值\n",
    "+ 基金的季度管理规模和持仓"
   ]
  },
  {
   "cell_type": "code",
   "execution_count": 3,
   "metadata": {},
   "outputs": [],
   "source": [
    "start_date = '20070101'\n",
    "end_date = '20200930'\n",
    "update = False"
   ]
  },
  {
   "cell_type": "code",
   "execution_count": 4,
   "metadata": {},
   "outputs": [],
   "source": [
    "if update:\n",
    "    w.start()"
   ]
  },
  {
   "cell_type": "code",
   "execution_count": 5,
   "metadata": {},
   "outputs": [],
   "source": [
    "# 数据获取函数\n",
    "\n",
    "# 基金基础信息 从Wind终端下载原始表格\n",
    "def GetFundsBasic():\n",
    "        # 基金基础信息，包含Wind基金二级分类中的普通股票型、偏股混合型和灵活配置型基金\n",
    "        funds_basic = pd.read_csv('funds_basic.csv', encoding='gbk')\n",
    "        \n",
    "        # 将C类基金去掉，基金规模采用A+C之和。选取至少成立1年的基金\n",
    "        year_before_end = (pd.Timestamp(end_date)-pd.DateOffset(years=1)).strftime('%Y%m%d')\n",
    "        funds_basic = funds_basic[(~funds_basic['name'].str.contains('C')) & (funds_basic['issue_date'] <= year_before_end)]\n",
    "        \n",
    "        return funds_basic\n",
    "\n",
    "\n",
    "# 基金日度单位净值 调用Wind接口更新数据 \n",
    "def GetFundsNav(fund_codes, start_date, end_date, update=False):\n",
    "    funds_nav = pd.read_csv('funds_nav.csv', parse_dates=['date'])\n",
    "    funds_nav = funds_nav[funds_nav['code'].isin(fund_codes)]\n",
    "    funds_nav = funds_nav[(funds_nav['date'] >= start_date) & (funds_nav['date'] <= end_date)]\n",
    "    load_end_date = np.max(funds_nav['date']).strftime('%Y%m%d')\n",
    "    \n",
    "    # 若需要更新数据\n",
    "    if (end_date > load_end_date) & update & w.isconnected():\n",
    "        start_date = (pd.Timestamp(load_end_date) + pd.DateOffset(days=1)).strftime('%Y%m%d')\n",
    "        print('updating date from {} to {}'.format(start_date, end_date))\n",
    "        \n",
    "        # 限制单次获取数据量\n",
    "        limit = 10\n",
    "        new_funds_nav = []\n",
    "\n",
    "        for i in trange(len(fund_codes)//10):\n",
    "            if i < len(fund_codes)//10 - 1:\n",
    "                codes = fund_codes[i*10: i*10+limit]\n",
    "            else:\n",
    "                codes = fund_codes[i*10:]\n",
    "            \n",
    "            _, nav = w.wsd(codes, \"NAV_adj\", start_date, end_date, usedf=True)\n",
    "            new_funds_nav.append(nav)\n",
    "\n",
    "        new_funds_nav = pd.concat(new_funds_nav, axis=1)\n",
    "        new_funds_nav = new_funds_nav.stack().rename('nav').reset_index().rename(columns={'level_0':'date','level_1':'code'})\n",
    "        funds_nav = pd.concat([funds_nav, new_funds_nav]).reset_index(drop=True)\n",
    "        funds_nav = funds_nav.sort_values(by='date')\n",
    "        funds_nav['date'] = funds_nav['date'].map(lambda x: x.strftime('%Y%m%d'))\n",
    "        funds_nav.to_csv('funds_nav.csv', index=False)\n",
    "        funds_nav = pd.read_csv('funds_nav.csv', parse_dates=['date'])\n",
    "        \n",
    "    return funds_nav\n",
    "\n",
    "\n",
    "# 基金季度规模 调用Wind接口更新数据 \n",
    "def GetFundsAsset(fund_codes, start_date, end_date, update=False):\n",
    "    funds_asset = pd.read_csv('funds_asset.csv', parse_dates=['date'])\n",
    "    funds_asset = funds_asset.dropna().reset_index(drop=True)\n",
    "    funds_asset = funds_asset[funds_asset['code'].isin(fund_codes)]\n",
    "    funds_asset = funds_asset[(funds_asset['date'] >= start_date) & (funds_asset['date'] <= end_date)]\n",
    "    load_end_date = np.max(funds_asset['date']).strftime('%Y%m%d')\n",
    "    \n",
    "    # 若需要更新数据\n",
    "    if (end_date > load_end_date) & update & w.isconnected():\n",
    "        start_date = load_end_date\n",
    "        print('updating from {} to {}'.format(start_date, end_date))\n",
    "        _, new_funds_asset = w.wsd(fund_codes, \"netasset_total\", start_date, end_date, 'Period=Q;Days=Alldays',usedf=True)\n",
    "        new_funds_asset = new_funds_asset.stack().rename('asset').reset_index().rename(columns={'level_0':'date','level_1':'code'})\n",
    "        funds_asset = pd.concat([funds_asset, new_funds_asset]).reset_index(drop=True)\n",
    "        funds_asset.drop_duplicates(subset=['date', 'code'], inplace=True)\n",
    "        funds_asset = funds_asset.sort_values(by='date')\n",
    "        funds_asset['date'] = funds_asset['date'].map(lambda x: x.strftime('%Y%m%d'))\n",
    "        funds_asset.to_csv('funds_asset.csv', index=False)\n",
    "        funds_asset = pd.read_csv('funds_asset.csv', parse_dates=['date'])\n",
    "    \n",
    "    return funds_asset\n",
    "        \n",
    "# 获取单一基金前X名重仓股的季度信息 调用Wind接口下载数据 \n",
    "# 由于数据量较多 本研究采用从Wind终端下载excel再整合的形式获取持仓数据    \n",
    "def GetFundPortfolio(fund_code, start_date, end_date, top=10):\n",
    "    fund_portfolio = []\n",
    "    \n",
    "    # 遍历获取单一基金权重第X名的季度持仓信息\n",
    "    for i in range(top):\n",
    "        order = i + 1\n",
    "        _, data = w.wsd(fund_code, \n",
    "                                  \" fund_stm_issuingdate_qty, prt_topstockname, prt_topstockcode, prt_topproportiontofloating, prt_heavilyheldstocktostock\", \n",
    "                                  start_date, end_date, 'Period=Q;Order={};Days=Alldays'.format(order),usedf=True)\n",
    "        data.rename(columns={'FUND_STM_ISSUINGDATE_QTY':'rpt_date',\n",
    "                                      'PRT_TOPSTOCKNAME':'stock_name',\n",
    "                                      'PRT_TOPSTOCKCODE':'stock_code',\n",
    "                                      'PRT_TOPPROPORTIONTOFLOATING':'floating_pct',\n",
    "                                      'PRT_HEAVILYHELDSTOCKTOSTOCK':'holidng_pct'}, inplace=True)\n",
    "        data['ranking'] = order\n",
    "        data['code'] = fund_code\n",
    "        fund_portfolio.append(data)\n",
    "    fund_portfolio = pd.concat(fund_portfolio).dropna().reset_index().rename(columns={'index':'date'}) # 合并数据\n",
    "    fund_portfolio = fund_portfolio.sort_values(by=['date','ranking']).reset_index(drop=True)          \n",
    "    fund_portfolio = fund_portfolio[['code']+fund_portfolio.columns.tolist()[:-1]]                     \n",
    "    return fund_portfolio\n",
    "\n",
    "def GetFundsPortfolio(fund_basic, start_date, end_date):\n",
    "    funds_info = fund_basic.set_index('code')['issue_date'].to_dict()\n",
    "    funds_portfolio = []\n",
    "    for fund_code, issue_date in tqdm(funds_info.items()):\n",
    "        fund_portfolio = GetFundPortfolio(fund_code, max(start_date, issue_date), end_date)\n",
    "        funds_portfolio.append(fund_portfolio)\n",
    "    funds_portfolio = pd.concat(funds_portfolio).reset_index(drop=True)\n",
    "    return funds_portfolio"
   ]
  },
  {
   "cell_type": "code",
   "execution_count": 6,
   "metadata": {},
   "outputs": [
    {
     "data": {
      "text/html": [
       "<div>\n",
       "<style scoped>\n",
       "    .dataframe tbody tr th:only-of-type {\n",
       "        vertical-align: middle;\n",
       "    }\n",
       "\n",
       "    .dataframe tbody tr th {\n",
       "        vertical-align: top;\n",
       "    }\n",
       "\n",
       "    .dataframe thead th {\n",
       "        text-align: right;\n",
       "    }\n",
       "</style>\n",
       "<table border=\"1\" class=\"dataframe\">\n",
       "  <thead>\n",
       "    <tr style=\"text-align: right;\">\n",
       "      <th></th>\n",
       "      <th>code</th>\n",
       "      <th>name</th>\n",
       "      <th>issue_date</th>\n",
       "      <th>type</th>\n",
       "      <th>management</th>\n",
       "    </tr>\n",
       "  </thead>\n",
       "  <tbody>\n",
       "    <tr>\n",
       "      <th>0</th>\n",
       "      <td>000001.OF</td>\n",
       "      <td>华夏成长</td>\n",
       "      <td>2001-11-28</td>\n",
       "      <td>偏股混合型基金</td>\n",
       "      <td>华夏基金管理有限公司</td>\n",
       "    </tr>\n",
       "    <tr>\n",
       "      <th>1</th>\n",
       "      <td>000006.OF</td>\n",
       "      <td>西部利得量化成长</td>\n",
       "      <td>2019-02-15</td>\n",
       "      <td>偏股混合型基金</td>\n",
       "      <td>西部利得基金管理有限公司</td>\n",
       "    </tr>\n",
       "    <tr>\n",
       "      <th>2</th>\n",
       "      <td>000011.OF</td>\n",
       "      <td>华夏大盘精选</td>\n",
       "      <td>2004-07-06</td>\n",
       "      <td>偏股混合型基金</td>\n",
       "      <td>华夏基金管理有限公司</td>\n",
       "    </tr>\n",
       "    <tr>\n",
       "      <th>3</th>\n",
       "      <td>000017.OF</td>\n",
       "      <td>财通可持续发展主题</td>\n",
       "      <td>2013-02-25</td>\n",
       "      <td>偏股混合型基金</td>\n",
       "      <td>财通基金管理有限公司</td>\n",
       "    </tr>\n",
       "    <tr>\n",
       "      <th>4</th>\n",
       "      <td>000020.OF</td>\n",
       "      <td>景顺长城品质投资</td>\n",
       "      <td>2013-02-25</td>\n",
       "      <td>偏股混合型基金</td>\n",
       "      <td>景顺长城基金管理有限公司</td>\n",
       "    </tr>\n",
       "  </tbody>\n",
       "</table>\n",
       "</div>"
      ],
      "text/plain": [
       "        code       name  issue_date     type    management\n",
       "0  000001.OF       华夏成长  2001-11-28  偏股混合型基金    华夏基金管理有限公司\n",
       "1  000006.OF   西部利得量化成长  2019-02-15  偏股混合型基金  西部利得基金管理有限公司\n",
       "2  000011.OF     华夏大盘精选  2004-07-06  偏股混合型基金    华夏基金管理有限公司\n",
       "3  000017.OF  财通可持续发展主题  2013-02-25  偏股混合型基金    财通基金管理有限公司\n",
       "4  000020.OF   景顺长城品质投资  2013-02-25  偏股混合型基金  景顺长城基金管理有限公司"
      ]
     },
     "execution_count": 6,
     "metadata": {},
     "output_type": "execute_result"
    }
   ],
   "source": [
    "# 基金基础信息，包含Wind基金二级分类中的普通股票型、偏股混合型和灵活配置型基金\n",
    "funds_basic = GetFundsBasic()\n",
    "fund_codes = funds_basic['code'].unique().tolist()\n",
    "funds_basic.head()"
   ]
  },
  {
   "cell_type": "code",
   "execution_count": 8,
   "metadata": {},
   "outputs": [],
   "source": [
    "# 基金每日净值和季度规模\n",
    "funds_nav = GetFundsNav(fund_codes, start_date, end_date, update=update)\n",
    "funds_asset = GetFundsAsset(fund_codes, start_date, end_date, update=update)"
   ]
  },
  {
   "cell_type": "code",
   "execution_count": 9,
   "metadata": {},
   "outputs": [
    {
     "data": {
      "text/html": [
       "<div>\n",
       "<style scoped>\n",
       "    .dataframe tbody tr th:only-of-type {\n",
       "        vertical-align: middle;\n",
       "    }\n",
       "\n",
       "    .dataframe tbody tr th {\n",
       "        vertical-align: top;\n",
       "    }\n",
       "\n",
       "    .dataframe thead th {\n",
       "        text-align: right;\n",
       "    }\n",
       "</style>\n",
       "<table border=\"1\" class=\"dataframe\">\n",
       "  <thead>\n",
       "    <tr style=\"text-align: right;\">\n",
       "      <th></th>\n",
       "      <th>date</th>\n",
       "      <th>code</th>\n",
       "      <th>asset</th>\n",
       "    </tr>\n",
       "  </thead>\n",
       "  <tbody>\n",
       "    <tr>\n",
       "      <th>0</th>\n",
       "      <td>2007-03-31</td>\n",
       "      <td>000001.OF</td>\n",
       "      <td>1.047223e+10</td>\n",
       "    </tr>\n",
       "    <tr>\n",
       "      <th>1</th>\n",
       "      <td>2007-03-31</td>\n",
       "      <td>121005.OF</td>\n",
       "      <td>1.577857e+09</td>\n",
       "    </tr>\n",
       "    <tr>\n",
       "      <th>2</th>\n",
       "      <td>2007-03-31</td>\n",
       "      <td>121003.OF</td>\n",
       "      <td>1.867102e+09</td>\n",
       "    </tr>\n",
       "  </tbody>\n",
       "</table>\n",
       "</div>"
      ],
      "text/plain": [
       "        date       code         asset\n",
       "0 2007-03-31  000001.OF  1.047223e+10\n",
       "1 2007-03-31  121005.OF  1.577857e+09\n",
       "2 2007-03-31  121003.OF  1.867102e+09"
      ]
     },
     "execution_count": 9,
     "metadata": {},
     "output_type": "execute_result"
    }
   ],
   "source": [
    "funds_asset.head(3)"
   ]
  },
  {
   "cell_type": "code",
   "execution_count": 10,
   "metadata": {},
   "outputs": [
    {
     "data": {
      "text/html": [
       "<div>\n",
       "<style scoped>\n",
       "    .dataframe tbody tr th:only-of-type {\n",
       "        vertical-align: middle;\n",
       "    }\n",
       "\n",
       "    .dataframe tbody tr th {\n",
       "        vertical-align: top;\n",
       "    }\n",
       "\n",
       "    .dataframe thead th {\n",
       "        text-align: right;\n",
       "    }\n",
       "</style>\n",
       "<table border=\"1\" class=\"dataframe\">\n",
       "  <thead>\n",
       "    <tr style=\"text-align: right;\">\n",
       "      <th></th>\n",
       "      <th>date</th>\n",
       "      <th>code</th>\n",
       "      <th>nav</th>\n",
       "    </tr>\n",
       "  </thead>\n",
       "  <tbody>\n",
       "    <tr>\n",
       "      <th>0</th>\n",
       "      <td>2007-01-04</td>\n",
       "      <td>000001.OF</td>\n",
       "      <td>2.350666</td>\n",
       "    </tr>\n",
       "    <tr>\n",
       "      <th>1</th>\n",
       "      <td>2007-01-04</td>\n",
       "      <td>310328.OF</td>\n",
       "      <td>2.250894</td>\n",
       "    </tr>\n",
       "    <tr>\n",
       "      <th>2</th>\n",
       "      <td>2007-01-04</td>\n",
       "      <td>310358.OF</td>\n",
       "      <td>1.064700</td>\n",
       "    </tr>\n",
       "  </tbody>\n",
       "</table>\n",
       "</div>"
      ],
      "text/plain": [
       "        date       code       nav\n",
       "0 2007-01-04  000001.OF  2.350666\n",
       "1 2007-01-04  310328.OF  2.250894\n",
       "2 2007-01-04  310358.OF  1.064700"
      ]
     },
     "execution_count": 10,
     "metadata": {},
     "output_type": "execute_result"
    }
   ],
   "source": [
    "funds_nav.head(3)"
   ]
  },
  {
   "cell_type": "markdown",
   "metadata": {},
   "source": [
    "### Step 2：基金数据统计"
   ]
  },
  {
   "cell_type": "code",
   "execution_count": 11,
   "metadata": {},
   "outputs": [],
   "source": [
    "# 计算基金季度收益\n",
    "def CalRet(series):\n",
    "    return np.nanprod(series/series.shift(1))-1\n",
    "\n",
    "q_ret = funds_nav.groupby([pd.Grouper(key='date', freq='Q'), 'code'])['nav'].apply(CalRet)\n",
    "q_ret.name = 'q_return'"
   ]
  },
  {
   "cell_type": "code",
   "execution_count": 12,
   "metadata": {},
   "outputs": [],
   "source": [
    "# 获取下一季度的收益\n",
    "q_next_ret = q_ret.groupby('code').apply(lambda x: x.shift(-1))\n",
    "q_next_ret.name = 'q_next_return'\n",
    "q_stat = pd.concat([q_ret, q_next_ret], axis=1)"
   ]
  },
  {
   "cell_type": "code",
   "execution_count": 13,
   "metadata": {},
   "outputs": [
    {
     "data": {
      "text/html": [
       "<div>\n",
       "<style scoped>\n",
       "    .dataframe tbody tr th:only-of-type {\n",
       "        vertical-align: middle;\n",
       "    }\n",
       "\n",
       "    .dataframe tbody tr th {\n",
       "        vertical-align: top;\n",
       "    }\n",
       "\n",
       "    .dataframe thead th {\n",
       "        text-align: right;\n",
       "    }\n",
       "</style>\n",
       "<table border=\"1\" class=\"dataframe\">\n",
       "  <thead>\n",
       "    <tr style=\"text-align: right;\">\n",
       "      <th>code</th>\n",
       "      <th>000001.OF</th>\n",
       "      <th>000006.OF</th>\n",
       "      <th>000011.OF</th>\n",
       "      <th>000017.OF</th>\n",
       "      <th>000020.OF</th>\n",
       "      <th>000021.OF</th>\n",
       "      <th>000029.OF</th>\n",
       "      <th>000030.OF</th>\n",
       "      <th>000031.OF</th>\n",
       "      <th>000039.OF</th>\n",
       "      <th>...</th>\n",
       "      <th>710002.OF</th>\n",
       "      <th>720001.OF</th>\n",
       "      <th>730001.OF</th>\n",
       "      <th>730002.OF</th>\n",
       "      <th>740001.OF</th>\n",
       "      <th>750001.OF</th>\n",
       "      <th>750005.OF</th>\n",
       "      <th>762001.OF</th>\n",
       "      <th>770001.OF</th>\n",
       "      <th>910007.OF</th>\n",
       "    </tr>\n",
       "    <tr>\n",
       "      <th>date</th>\n",
       "      <th></th>\n",
       "      <th></th>\n",
       "      <th></th>\n",
       "      <th></th>\n",
       "      <th></th>\n",
       "      <th></th>\n",
       "      <th></th>\n",
       "      <th></th>\n",
       "      <th></th>\n",
       "      <th></th>\n",
       "      <th></th>\n",
       "      <th></th>\n",
       "      <th></th>\n",
       "      <th></th>\n",
       "      <th></th>\n",
       "      <th></th>\n",
       "      <th></th>\n",
       "      <th></th>\n",
       "      <th></th>\n",
       "      <th></th>\n",
       "      <th></th>\n",
       "    </tr>\n",
       "  </thead>\n",
       "  <tbody>\n",
       "    <tr>\n",
       "      <th>2020-09-28</th>\n",
       "      <td>8.274833</td>\n",
       "      <td>1.8039</td>\n",
       "      <td>34.283963</td>\n",
       "      <td>4.394945</td>\n",
       "      <td>3.978240</td>\n",
       "      <td>5.052651</td>\n",
       "      <td>3.222770</td>\n",
       "      <td>2.698448</td>\n",
       "      <td>3.010</td>\n",
       "      <td>2.9549</td>\n",
       "      <td>...</td>\n",
       "      <td>3.467648</td>\n",
       "      <td>4.347787</td>\n",
       "      <td>2.365913</td>\n",
       "      <td>1.913684</td>\n",
       "      <td>1.927969</td>\n",
       "      <td>3.191565</td>\n",
       "      <td>1.949243</td>\n",
       "      <td>4.185450</td>\n",
       "      <td>2.607659</td>\n",
       "      <td>4.4664</td>\n",
       "    </tr>\n",
       "    <tr>\n",
       "      <th>2020-09-29</th>\n",
       "      <td>8.292770</td>\n",
       "      <td>1.8223</td>\n",
       "      <td>34.416276</td>\n",
       "      <td>4.463348</td>\n",
       "      <td>4.018501</td>\n",
       "      <td>5.114369</td>\n",
       "      <td>3.241278</td>\n",
       "      <td>2.705668</td>\n",
       "      <td>3.056</td>\n",
       "      <td>2.9893</td>\n",
       "      <td>...</td>\n",
       "      <td>3.504866</td>\n",
       "      <td>4.403342</td>\n",
       "      <td>2.391545</td>\n",
       "      <td>1.908613</td>\n",
       "      <td>1.934516</td>\n",
       "      <td>3.204447</td>\n",
       "      <td>1.947811</td>\n",
       "      <td>4.225831</td>\n",
       "      <td>2.635469</td>\n",
       "      <td>4.4883</td>\n",
       "    </tr>\n",
       "    <tr>\n",
       "      <th>2020-09-30</th>\n",
       "      <td>8.286791</td>\n",
       "      <td>1.8198</td>\n",
       "      <td>34.451683</td>\n",
       "      <td>4.488050</td>\n",
       "      <td>4.018501</td>\n",
       "      <td>5.128770</td>\n",
       "      <td>3.243591</td>\n",
       "      <td>2.707519</td>\n",
       "      <td>3.093</td>\n",
       "      <td>2.9911</td>\n",
       "      <td>...</td>\n",
       "      <td>3.509946</td>\n",
       "      <td>4.441700</td>\n",
       "      <td>2.394788</td>\n",
       "      <td>1.909501</td>\n",
       "      <td>1.949245</td>\n",
       "      <td>3.193175</td>\n",
       "      <td>1.948384</td>\n",
       "      <td>4.255388</td>\n",
       "      <td>2.645230</td>\n",
       "      <td>4.4974</td>\n",
       "    </tr>\n",
       "  </tbody>\n",
       "</table>\n",
       "<p>3 rows × 2569 columns</p>\n",
       "</div>"
      ],
      "text/plain": [
       "code        000001.OF  000006.OF  000011.OF  000017.OF  000020.OF  000021.OF  \\\n",
       "date                                                                           \n",
       "2020-09-28   8.274833     1.8039  34.283963   4.394945   3.978240   5.052651   \n",
       "2020-09-29   8.292770     1.8223  34.416276   4.463348   4.018501   5.114369   \n",
       "2020-09-30   8.286791     1.8198  34.451683   4.488050   4.018501   5.128770   \n",
       "\n",
       "code        000029.OF  000030.OF  000031.OF  000039.OF  ...  710002.OF  \\\n",
       "date                                                    ...              \n",
       "2020-09-28   3.222770   2.698448      3.010     2.9549  ...   3.467648   \n",
       "2020-09-29   3.241278   2.705668      3.056     2.9893  ...   3.504866   \n",
       "2020-09-30   3.243591   2.707519      3.093     2.9911  ...   3.509946   \n",
       "\n",
       "code        720001.OF  730001.OF  730002.OF  740001.OF  750001.OF  750005.OF  \\\n",
       "date                                                                           \n",
       "2020-09-28   4.347787   2.365913   1.913684   1.927969   3.191565   1.949243   \n",
       "2020-09-29   4.403342   2.391545   1.908613   1.934516   3.204447   1.947811   \n",
       "2020-09-30   4.441700   2.394788   1.909501   1.949245   3.193175   1.948384   \n",
       "\n",
       "code        762001.OF  770001.OF  910007.OF  \n",
       "date                                         \n",
       "2020-09-28   4.185450   2.607659     4.4664  \n",
       "2020-09-29   4.225831   2.635469     4.4883  \n",
       "2020-09-30   4.255388   2.645230     4.4974  \n",
       "\n",
       "[3 rows x 2569 columns]"
      ]
     },
     "execution_count": 13,
     "metadata": {},
     "output_type": "execute_result"
    }
   ],
   "source": [
    "# 基金日度收益pivot\n",
    "pivot_nav = funds_nav.pivot_table(index='date', columns='code')\n",
    "pivot_nav.columns = pivot_nav.columns.levels[1]\n",
    "pivot_nav.tail(3)"
   ]
  },
  {
   "cell_type": "code",
   "execution_count": 14,
   "metadata": {},
   "outputs": [],
   "source": [
    "# 计算基金年化收益，年化波动率，夏普率和最大回撤\n",
    "def GetYearStat(series):\n",
    "    date = series.index.get_level_values('date')[0]\n",
    "    year_before = date - pd.DateOffset(years=1)\n",
    "    codes = list(series.index.get_level_values('code'))\n",
    "    stat = pd.DataFrame(columns=['y_return', 'y_vol', 'y_sharpe', 'y_maxdrawdown'], index=codes)\n",
    "    stat.index.name = 'code'\n",
    "    nav = pivot_nav.query(\"date >'{}' & date<='{}'\".format(year_before, date)).dropna(axis=1) # 要有完整一年的数据\n",
    "    \n",
    "    stat['y_return'] = np.prod(1 + nav.pct_change())**(252/len(nav)) - 1\n",
    "    stat['y_vol'] = np.std(nav.pct_change()) * np.sqrt(252)\n",
    "    stat['y_sharpe'] = (stat['y_return'] - 0.03) / stat['y_vol']\n",
    "    stat['y_maxdrawdown'] = np.min(nav/nav.cummax()-1)\n",
    "    return stat\n",
    "\n",
    "y_stat = q_stat.groupby('date').apply(GetYearStat)"
   ]
  },
  {
   "cell_type": "code",
   "execution_count": 15,
   "metadata": {},
   "outputs": [],
   "source": [
    "# 数据汇总\n",
    "funds_stat = pd.concat([q_stat, y_stat], axis=1)\n",
    "funds_stat = pd.merge(left=funds_stat, right=funds_asset, on=['date', 'code'], how='left')\n",
    "funds_stat = pd.merge(left = funds_stat, right= funds_basic[['code', 'type']], on = 'code', how='left')\n",
    "funds_stat.dropna(subset=['q_return', 'y_return', 'y_vol', 'y_sharpe', 'y_maxdrawdown', 'asset'], inplace=True)\n",
    "funds_stat.reset_index(drop=True, inplace=True)"
   ]
  },
  {
   "cell_type": "code",
   "execution_count": 16,
   "metadata": {},
   "outputs": [
    {
     "data": {
      "text/html": [
       "<div>\n",
       "<style scoped>\n",
       "    .dataframe tbody tr th:only-of-type {\n",
       "        vertical-align: middle;\n",
       "    }\n",
       "\n",
       "    .dataframe tbody tr th {\n",
       "        vertical-align: top;\n",
       "    }\n",
       "\n",
       "    .dataframe thead th {\n",
       "        text-align: right;\n",
       "    }\n",
       "</style>\n",
       "<table border=\"1\" class=\"dataframe\">\n",
       "  <thead>\n",
       "    <tr style=\"text-align: right;\">\n",
       "      <th></th>\n",
       "      <th>date</th>\n",
       "      <th>code</th>\n",
       "      <th>q_return</th>\n",
       "      <th>q_next_return</th>\n",
       "      <th>y_return</th>\n",
       "      <th>y_vol</th>\n",
       "      <th>y_sharpe</th>\n",
       "      <th>y_maxdrawdown</th>\n",
       "      <th>asset</th>\n",
       "      <th>type</th>\n",
       "    </tr>\n",
       "  </thead>\n",
       "  <tbody>\n",
       "    <tr>\n",
       "      <th>0</th>\n",
       "      <td>2007-03-31</td>\n",
       "      <td>000001.OF</td>\n",
       "      <td>0.205797</td>\n",
       "      <td>0.355932</td>\n",
       "      <td>1.287272</td>\n",
       "      <td>0.342471</td>\n",
       "      <td>3.671180</td>\n",
       "      <td>-0.086473</td>\n",
       "      <td>1.047223e+10</td>\n",
       "      <td>偏股混合型基金</td>\n",
       "    </tr>\n",
       "    <tr>\n",
       "      <th>1</th>\n",
       "      <td>2007-03-31</td>\n",
       "      <td>000011.OF</td>\n",
       "      <td>0.588546</td>\n",
       "      <td>0.283060</td>\n",
       "      <td>6.738040</td>\n",
       "      <td>0.330327</td>\n",
       "      <td>20.307303</td>\n",
       "      <td>-0.071429</td>\n",
       "      <td>3.331768e+09</td>\n",
       "      <td>偏股混合型基金</td>\n",
       "    </tr>\n",
       "    <tr>\n",
       "      <th>2</th>\n",
       "      <td>2007-03-31</td>\n",
       "      <td>000021.OF</td>\n",
       "      <td>0.176255</td>\n",
       "      <td>0.374288</td>\n",
       "      <td>1.049699</td>\n",
       "      <td>0.372077</td>\n",
       "      <td>2.740558</td>\n",
       "      <td>-0.119658</td>\n",
       "      <td>1.116074e+10</td>\n",
       "      <td>偏股混合型基金</td>\n",
       "    </tr>\n",
       "  </tbody>\n",
       "</table>\n",
       "</div>"
      ],
      "text/plain": [
       "        date       code  q_return  q_next_return  y_return     y_vol  \\\n",
       "0 2007-03-31  000001.OF  0.205797       0.355932  1.287272  0.342471   \n",
       "1 2007-03-31  000011.OF  0.588546       0.283060  6.738040  0.330327   \n",
       "2 2007-03-31  000021.OF  0.176255       0.374288  1.049699  0.372077   \n",
       "\n",
       "    y_sharpe  y_maxdrawdown         asset     type  \n",
       "0   3.671180      -0.086473  1.047223e+10  偏股混合型基金  \n",
       "1  20.307303      -0.071429  3.331768e+09  偏股混合型基金  \n",
       "2   2.740558      -0.119658  1.116074e+10  偏股混合型基金  "
      ]
     },
     "execution_count": 16,
     "metadata": {},
     "output_type": "execute_result"
    }
   ],
   "source": [
    "funds_stat.head(3)"
   ]
  },
  {
   "cell_type": "code",
   "execution_count": 17,
   "metadata": {},
   "outputs": [],
   "source": [
    "# 按给定指标分组 在固定日期和基金类型后分组\n",
    "def GetGroup(df, col, groups=5):\n",
    "    \n",
    "    label_name = [str(i+1) for i in range(groups)]\n",
    "    return df.groupby(['date','type'])[col].apply(lambda x: pd.qcut(x, len(label_name), labels=label_name))\n",
    "\n",
    "group_cols = ['y_return', 'y_vol', 'y_sharpe', 'y_maxdrawdown', 'asset']\n",
    "group_stat = []\n",
    "for col in group_cols:\n",
    "    funds_stat[col+'_group'] = GetGroup(funds_stat, col, groups=5)\n",
    "    group = funds_stat.groupby(col+'_group')['q_next_return'].mean()\n",
    "    group.name = col\n",
    "    group.index.name = 'group'\n",
    "    group_stat.append(group)\n",
    "group_stat = pd.concat(group_stat, axis=1)"
   ]
  },
  {
   "cell_type": "code",
   "execution_count": 18,
   "metadata": {},
   "outputs": [
    {
     "data": {
      "text/html": [
       "<div>\n",
       "<style scoped>\n",
       "    .dataframe tbody tr th:only-of-type {\n",
       "        vertical-align: middle;\n",
       "    }\n",
       "\n",
       "    .dataframe tbody tr th {\n",
       "        vertical-align: top;\n",
       "    }\n",
       "\n",
       "    .dataframe thead th {\n",
       "        text-align: right;\n",
       "    }\n",
       "</style>\n",
       "<table border=\"1\" class=\"dataframe\">\n",
       "  <thead>\n",
       "    <tr style=\"text-align: right;\">\n",
       "      <th></th>\n",
       "      <th>y_return</th>\n",
       "      <th>y_vol</th>\n",
       "      <th>y_sharpe</th>\n",
       "      <th>y_maxdrawdown</th>\n",
       "      <th>asset</th>\n",
       "    </tr>\n",
       "    <tr>\n",
       "      <th>group</th>\n",
       "      <th></th>\n",
       "      <th></th>\n",
       "      <th></th>\n",
       "      <th></th>\n",
       "      <th></th>\n",
       "    </tr>\n",
       "  </thead>\n",
       "  <tbody>\n",
       "    <tr>\n",
       "      <th>1</th>\n",
       "      <td>0.029331</td>\n",
       "      <td>0.027169</td>\n",
       "      <td>0.028084</td>\n",
       "      <td>0.035887</td>\n",
       "      <td>0.033656</td>\n",
       "    </tr>\n",
       "    <tr>\n",
       "      <th>2</th>\n",
       "      <td>0.032675</td>\n",
       "      <td>0.033605</td>\n",
       "      <td>0.034184</td>\n",
       "      <td>0.038669</td>\n",
       "      <td>0.039288</td>\n",
       "    </tr>\n",
       "    <tr>\n",
       "      <th>3</th>\n",
       "      <td>0.036370</td>\n",
       "      <td>0.038645</td>\n",
       "      <td>0.037059</td>\n",
       "      <td>0.039087</td>\n",
       "      <td>0.038136</td>\n",
       "    </tr>\n",
       "    <tr>\n",
       "      <th>4</th>\n",
       "      <td>0.039429</td>\n",
       "      <td>0.040800</td>\n",
       "      <td>0.040411</td>\n",
       "      <td>0.036237</td>\n",
       "      <td>0.035521</td>\n",
       "    </tr>\n",
       "    <tr>\n",
       "      <th>5</th>\n",
       "      <td>0.042242</td>\n",
       "      <td>0.039868</td>\n",
       "      <td>0.040338</td>\n",
       "      <td>0.030184</td>\n",
       "      <td>0.033464</td>\n",
       "    </tr>\n",
       "  </tbody>\n",
       "</table>\n",
       "</div>"
      ],
      "text/plain": [
       "       y_return     y_vol  y_sharpe  y_maxdrawdown     asset\n",
       "group                                                       \n",
       "1      0.029331  0.027169  0.028084       0.035887  0.033656\n",
       "2      0.032675  0.033605  0.034184       0.038669  0.039288\n",
       "3      0.036370  0.038645  0.037059       0.039087  0.038136\n",
       "4      0.039429  0.040800  0.040411       0.036237  0.035521\n",
       "5      0.042242  0.039868  0.040338       0.030184  0.033464"
      ]
     },
     "execution_count": 18,
     "metadata": {},
     "output_type": "execute_result"
    }
   ],
   "source": [
    "group_stat"
   ]
  },
  {
   "cell_type": "code",
   "execution_count": 19,
   "metadata": {},
   "outputs": [
    {
     "data": {
      "image/png": "[encoded data removed]",
      "text/plain": [
       "<Figure size 576x396 with 1 Axes>"
      ]
     },
     "metadata": {},
     "output_type": "display_data"
    }
   ],
   "source": [
    "# 过去一年收益率对下一季度收益率有显著单调性\n",
    "bar = group_stat['y_return'].plot.bar(rot=0, title='过去一年收益率分组统计：下一季度收益率')"
   ]
  },
  {
   "cell_type": "code",
   "execution_count": 18,
   "metadata": {},
   "outputs": [
    {
     "data": {
      "image/png": "[encoded data removed]",
      "text/plain": [
       "<Figure size 576x396 with 1 Axes>"
      ]
     },
     "metadata": {},
     "output_type": "display_data"
    }
   ],
   "source": [
    "# 过去一年夏普率对下一季度收益率有较好的单调性\n",
    "bar = group_stat['y_sharpe'].plot.bar(rot=0, title='过去一年夏普率分组统计：下一季度收益率')"
   ]
  },
  {
   "cell_type": "code",
   "execution_count": 19,
   "metadata": {},
   "outputs": [
    {
     "data": {
      "image/png": "[encoded data removed]",
      "text/plain": [
       "<Figure size 576x396 with 1 Axes>"
      ]
     },
     "metadata": {},
     "output_type": "display_data"
    }
   ],
   "source": [
    "# 基金当季度规模对下一季度收益率分组呈现倒U性质，且表现最好的组为规模相对偏小的第2组\n",
    "bar = group_stat['asset'].plot.bar(rot=0, title='基金规模分组统计：下一季度收益率')"
   ]
  },
  {
   "cell_type": "markdown",
   "metadata": {},
   "source": [
    "### 基金筛选条件\n",
    "+ asset 每一季度去掉大于100亿和小于1亿的\n",
    "+ y_return 取第5组（前20%）\n",
    "+ y_sharpe 取第5组（前20%）"
   ]
  },
  {
   "cell_type": "code",
   "execution_count": 20,
   "metadata": {},
   "outputs": [
    {
     "data": {
      "image/png": "[encoded data removed]",
      "text/plain": [
       "<Figure size 1440x432 with 1 Axes>"
      ]
     },
     "metadata": {},
     "output_type": "display_data"
    }
   ],
   "source": [
    "select_funds = funds_stat.query(\n",
    "    \"y_return_group in('5') & y_sharpe_group in('5') & asset>10e8 & asset<10e10\")\n",
    "# 优选基金池dict：key-Timestamp; value-fund codes list\n",
    "funds_dict = select_funds.groupby('date')['code'].apply(lambda x: x.tolist()).to_dict()\n",
    "funds_count = select_funds.groupby('date')['code'].apply(lambda x: x.count())\n",
    "plot = funds_count.plot(title='优选基金数量', figsize=(20, 6))"
   ]
  },
  {
   "cell_type": "markdown",
   "metadata": {},
   "source": [
    "计算优选基金的持续性"
   ]
  },
  {
   "cell_type": "code",
   "execution_count": 21,
   "metadata": {},
   "outputs": [],
   "source": [
    "consistency = pd.DataFrame(columns=['consistency'])\n",
    "last_codes = list(funds_dict.values())[0]\n",
    "for date, codes in funds_dict.items():\n",
    "    consistency.loc[date] = len(set(codes) & set(last_codes))/len(codes)\n",
    "    last_codes = codes"
   ]
  },
  {
   "cell_type": "code",
   "execution_count": 22,
   "metadata": {},
   "outputs": [
    {
     "name": "stdout",
     "output_type": "stream",
     "text": [
      "优选基金持续性的平均比例为：0.5670\n"
     ]
    },
    {
     "data": {
      "image/png": "[encoded data removed]",
      "text/plain": [
       "<Figure size 1440x432 with 1 Axes>"
      ]
     },
     "metadata": {},
     "output_type": "display_data"
    }
   ],
   "source": [
    "plot = consistency[1:].plot(title='优选基金季度持续性', figsize=(20,6))\n",
    "print('优选基金持续性的平均比例为：{}'.format(\"%.4f\" %(consistency[1:].mean()[0])))"
   ]
  },
  {
   "cell_type": "markdown",
   "metadata": {},
   "source": [
    "整体而言优选基金的持续性稳定在50%-60%左右"
   ]
  },
  {
   "cell_type": "markdown",
   "metadata": {},
   "source": [
    "### Step 3：基金季度重仓股票池"
   ]
  },
  {
   "cell_type": "code",
   "execution_count": 23,
   "metadata": {},
   "outputs": [],
   "source": [
    "# 读取wind终端下载的基金持仓数据\n",
    "def GetPortfolios(start_date, end_date, update=False):\n",
    "    portfolios = pd.read_csv('funds_portfolio.csv', parse_dates=['date'])\n",
    "    portfolios = portfolios[(portfolios['date'] >= start_date) & (portfolios['date'] <= end_date)]\n",
    "    load_end_date = np.max(portfolios['date']).strftime('%Y%m%d')\n",
    "    \n",
    "    if (load_end_date < end_date) & update:\n",
    "        # 需要有从wind终端下载的原始数据\n",
    "        assert os.path.exists('portfolio'), 'portfolio file not exists'\n",
    "        portfolio_files = os.listdir('portfolio')\n",
    "        portfolios = []\n",
    "        for file in tqdm(portfolio_files):\n",
    "            portfolio = pd.read_excel('./portfolio/{}'.format(file))\n",
    "            portfolio.dropna(subset=['股票代码'], inplace=True)\n",
    "            portfolios.append(portfolio)\n",
    "        portfolios = pd.concat(portfolios)\n",
    "        portfolios.columns=['code', 'name', 'date', 'stock_code', 'stock_name', 'hold_amt', 'hold_amt_chg', 'hold_to_float', 'hold_mkv',\n",
    "                            'hold_to_nav', 'hold_pct', 'type', 'manager']\n",
    "        portfolios = portfolios.drop('hold_to_nav', axis=1)\n",
    "        portfolios = portfolios[portfolios['type'].isin(['偏股混合型基金', '灵活配置型基金', '普通股票型基金'])]\n",
    "\n",
    "        rpt_date = list(portfolios['date'].unique())\n",
    "        date = list(pd.date_range('20030101', '20200930', freq='Q'))\n",
    "        date = list(map(lambda x:x.strftime('%Y-%m-%d'), date))\n",
    "\n",
    "        # 修改date为日期格式\n",
    "        portfolios['date'] = portfolios['date'].replace(rpt_date, date)\n",
    "\n",
    "        # 将hold_amt_chg的nan值填充为hold_amt(上一个季度若没有持仓，则该季度持仓变化为总持仓数)\n",
    "        portfolios.loc[portfolios['hold_amt_chg'].isna(), 'hold_amt_chg'] = portfolios.loc[portfolios['hold_amt_chg'].isna(), 'hold_amt']\n",
    "        portfolios.to_csv('funds_portfolio.csv', index=False)\n",
    "\n",
    "    return portfolios"
   ]
  },
  {
   "cell_type": "code",
   "execution_count": 24,
   "metadata": {},
   "outputs": [],
   "source": [
    "portfolios = GetPortfolios(start_date, end_date, update=update)"
   ]
  },
  {
   "cell_type": "code",
   "execution_count": 25,
   "metadata": {},
   "outputs": [],
   "source": [
    "# 获取优选基金的持仓信息\n",
    "portfolios = portfolios[portfolios['date'].isin(funds_dict.keys())]\n",
    "def SelectFunds(df):\n",
    "    date = df['date'].iloc[0]\n",
    "    return df[df['code'].isin(funds_dict[date])]\n",
    "portfolios = portfolios.groupby('date').apply(SelectFunds).reset_index(drop=True)"
   ]
  },
  {
   "cell_type": "code",
   "execution_count": 26,
   "metadata": {},
   "outputs": [
    {
     "data": {
      "text/html": [
       "<div>\n",
       "<style scoped>\n",
       "    .dataframe tbody tr th:only-of-type {\n",
       "        vertical-align: middle;\n",
       "    }\n",
       "\n",
       "    .dataframe tbody tr th {\n",
       "        vertical-align: top;\n",
       "    }\n",
       "\n",
       "    .dataframe thead th {\n",
       "        text-align: right;\n",
       "    }\n",
       "</style>\n",
       "<table border=\"1\" class=\"dataframe\">\n",
       "  <thead>\n",
       "    <tr style=\"text-align: right;\">\n",
       "      <th></th>\n",
       "      <th>code</th>\n",
       "      <th>name</th>\n",
       "      <th>date</th>\n",
       "      <th>stock_code</th>\n",
       "      <th>stock_name</th>\n",
       "      <th>hold_amt</th>\n",
       "      <th>hold_amt_chg</th>\n",
       "      <th>hold_to_float</th>\n",
       "      <th>hold_mkv</th>\n",
       "      <th>hold_pct</th>\n",
       "      <th>type</th>\n",
       "      <th>manager</th>\n",
       "    </tr>\n",
       "  </thead>\n",
       "  <tbody>\n",
       "    <tr>\n",
       "      <th>0</th>\n",
       "      <td>000011.OF</td>\n",
       "      <td>华夏大盘精选</td>\n",
       "      <td>2007-03-31</td>\n",
       "      <td>000819.SZ</td>\n",
       "      <td>岳阳兴长</td>\n",
       "      <td>519.4234</td>\n",
       "      <td>201.7945</td>\n",
       "      <td>6.444387</td>\n",
       "      <td>11390.955162</td>\n",
       "      <td>3.928866</td>\n",
       "      <td>偏股混合型基金</td>\n",
       "      <td>华夏基金管理有限公司</td>\n",
       "    </tr>\n",
       "    <tr>\n",
       "      <th>1</th>\n",
       "      <td>000011.OF</td>\n",
       "      <td>华夏大盘精选</td>\n",
       "      <td>2007-03-31</td>\n",
       "      <td>600570.SH</td>\n",
       "      <td>恒生电子</td>\n",
       "      <td>524.9713</td>\n",
       "      <td>14.8163</td>\n",
       "      <td>4.784719</td>\n",
       "      <td>10000.703265</td>\n",
       "      <td>3.449353</td>\n",
       "      <td>偏股混合型基金</td>\n",
       "      <td>华夏基金管理有限公司</td>\n",
       "    </tr>\n",
       "    <tr>\n",
       "      <th>2</th>\n",
       "      <td>000011.OF</td>\n",
       "      <td>华夏大盘精选</td>\n",
       "      <td>2007-03-31</td>\n",
       "      <td>600028.SH</td>\n",
       "      <td>中国石化</td>\n",
       "      <td>1000.0000</td>\n",
       "      <td>1000.0000</td>\n",
       "      <td>0.279018</td>\n",
       "      <td>9930.000000</td>\n",
       "      <td>3.424966</td>\n",
       "      <td>偏股混合型基金</td>\n",
       "      <td>华夏基金管理有限公司</td>\n",
       "    </tr>\n",
       "    <tr>\n",
       "      <th>3</th>\n",
       "      <td>000011.OF</td>\n",
       "      <td>华夏大盘精选</td>\n",
       "      <td>2007-03-31</td>\n",
       "      <td>000960.SZ</td>\n",
       "      <td>锡业股份</td>\n",
       "      <td>500.0420</td>\n",
       "      <td>-189.0680</td>\n",
       "      <td>1.944852</td>\n",
       "      <td>9625.808500</td>\n",
       "      <td>3.320047</td>\n",
       "      <td>偏股混合型基金</td>\n",
       "      <td>华夏基金管理有限公司</td>\n",
       "    </tr>\n",
       "    <tr>\n",
       "      <th>4</th>\n",
       "      <td>000011.OF</td>\n",
       "      <td>华夏大盘精选</td>\n",
       "      <td>2007-03-31</td>\n",
       "      <td>000617.SZ</td>\n",
       "      <td>中油资本</td>\n",
       "      <td>512.6541</td>\n",
       "      <td>171.1792</td>\n",
       "      <td>5.348812</td>\n",
       "      <td>9586.631670</td>\n",
       "      <td>3.306535</td>\n",
       "      <td>偏股混合型基金</td>\n",
       "      <td>华夏基金管理有限公司</td>\n",
       "    </tr>\n",
       "  </tbody>\n",
       "</table>\n",
       "</div>"
      ],
      "text/plain": [
       "        code    name       date stock_code stock_name   hold_amt  \\\n",
       "0  000011.OF  华夏大盘精选 2007-03-31  000819.SZ       岳阳兴长   519.4234   \n",
       "1  000011.OF  华夏大盘精选 2007-03-31  600570.SH       恒生电子   524.9713   \n",
       "2  000011.OF  华夏大盘精选 2007-03-31  600028.SH       中国石化  1000.0000   \n",
       "3  000011.OF  华夏大盘精选 2007-03-31  000960.SZ       锡业股份   500.0420   \n",
       "4  000011.OF  华夏大盘精选 2007-03-31  000617.SZ       中油资本   512.6541   \n",
       "\n",
       "   hold_amt_chg  hold_to_float      hold_mkv  hold_pct     type     manager  \n",
       "0      201.7945       6.444387  11390.955162  3.928866  偏股混合型基金  华夏基金管理有限公司  \n",
       "1       14.8163       4.784719  10000.703265  3.449353  偏股混合型基金  华夏基金管理有限公司  \n",
       "2     1000.0000       0.279018   9930.000000  3.424966  偏股混合型基金  华夏基金管理有限公司  \n",
       "3     -189.0680       1.944852   9625.808500  3.320047  偏股混合型基金  华夏基金管理有限公司  \n",
       "4      171.1792       5.348812   9586.631670  3.306535  偏股混合型基金  华夏基金管理有限公司  "
      ]
     },
     "execution_count": 26,
     "metadata": {},
     "output_type": "execute_result"
    }
   ],
   "source": [
    "portfolios.head()"
   ]
  },
  {
   "cell_type": "markdown",
   "metadata": {},
   "source": [
    "#### 行业分布的变化"
   ]
  },
  {
   "cell_type": "code",
   "execution_count": 27,
   "metadata": {},
   "outputs": [],
   "source": [
    "stock_industry = pd.read_csv('stock_industry.csv', index_col=['date', 'stock_code'], parse_dates = ['date'])"
   ]
  },
  {
   "cell_type": "code",
   "execution_count": 28,
   "metadata": {},
   "outputs": [],
   "source": [
    "sector_dict = {'金融':['房地产','非银金融','银行'],\n",
    "               '消费':['传媒', '商业贸易', '纺织服装', '食品饮料', '休闲服务', '综合'],\n",
    "               '制造':['机械设备','汽车','电气设备','计算机','通信','电子','轻工制造','家用电器'],\n",
    "               '周期':['交通运输','化工','国防军工','建筑材料','建筑装饰','有色金属','钢铁','公用事业','采掘','农林牧渔'],\n",
    "               '医药':['医药生物']}"
   ]
  },
  {
   "cell_type": "code",
   "execution_count": 29,
   "metadata": {},
   "outputs": [],
   "source": [
    "# 添加行业和板块信息\n",
    "def GetIndustry(series):\n",
    "    date = series['date']\n",
    "    stock_code = series['stock_code']\n",
    "    if (date, stock_code) in stock_industry.index:\n",
    "        industry = stock_industry.loc[(date, stock_code)]\n",
    "    else:\n",
    "        industry = None\n",
    "    return industry\n",
    "\n",
    "def GetSector(series):\n",
    "    industry = series['industry']\n",
    "    for k, v in sector_dict.items():\n",
    "        if industry in v:\n",
    "            sector = k\n",
    "            break\n",
    "    return sector\n",
    "    \n",
    "portfolios['industry'] = portfolios.apply(GetIndustry, axis=1)\n",
    "portfolios = portfolios.dropna(subset = ['industry']).reset_index(drop=True)\n",
    "portfolios['sector'] = portfolios.apply(GetSector, axis=1)"
   ]
  },
  {
   "cell_type": "code",
   "execution_count": 30,
   "metadata": {},
   "outputs": [],
   "source": [
    "# 按日期和板块求和并计算持有板块市值的比例\n",
    "sector_stat = portfolios[['date', 'hold_mkv', 'sector']].groupby(['date', 'sector'], as_index=False).sum()\n",
    "sector_stat['hold_percent'] = sector_stat[['date','hold_mkv']].groupby('date').apply(lambda series: series/series.sum())"
   ]
  },
  {
   "cell_type": "code",
   "execution_count": 31,
   "metadata": {},
   "outputs": [
    {
     "data": {
      "image/png": "[encoded data removed]",
      "text/plain": [
       "<Figure size 1440x576 with 1 Axes>"
      ]
     },
     "metadata": {},
     "output_type": "display_data"
    }
   ],
   "source": [
    "# 绘图\n",
    "sector_pivot = sector_stat.pivot(index='date', columns='sector', values='hold_percent')\n",
    "sector_pivot.index = sector_pivot.index.strftime('%Y%m%d').map(lambda x: x[:-2])\n",
    "\n",
    "colors = ['#F08080', '#AFEEEE', '#6495ED', '#F5DEB3', '#D3D3D3']\n",
    "plot = sector_pivot.plot.bar(stacked=True, figsize=(20,8), title='优选基金重仓板块分布', color=colors, rot=45)"
   ]
  },
  {
   "cell_type": "code",
   "execution_count": 32,
   "metadata": {},
   "outputs": [],
   "source": [
    "# 统计每个季度基金持仓股票的集中程度：1 - 所有重仓股票数量/(基金数量*10)\n",
    "stock_count = 1 - portfolios.groupby('date').apply(lambda df: len(df['stock_code'].unique())/(10*len(df['code'].unique())))"
   ]
  },
  {
   "cell_type": "code",
   "execution_count": 33,
   "metadata": {},
   "outputs": [
    {
     "data": {
      "image/png": "[encoded data removed]",
      "text/plain": [
       "<Figure size 1440x432 with 1 Axes>"
      ]
     },
     "metadata": {},
     "output_type": "display_data"
    }
   ],
   "source": [
    "plot = stock_count.plot(title='优选基金重仓股票的集中度', figsize=(20,6))"
   ]
  },
  {
   "cell_type": "markdown",
   "metadata": {},
   "source": [
    "可以看到，近年来基金重仓股票的集中度显著提升"
   ]
  },
  {
   "cell_type": "markdown",
   "metadata": {},
   "source": [
    "### Step 4：计算因子值"
   ]
  },
  {
   "cell_type": "code",
   "execution_count": 34,
   "metadata": {},
   "outputs": [
    {
     "data": {
      "text/html": [
       "<div>\n",
       "<style scoped>\n",
       "    .dataframe tbody tr th:only-of-type {\n",
       "        vertical-align: middle;\n",
       "    }\n",
       "\n",
       "    .dataframe tbody tr th {\n",
       "        vertical-align: top;\n",
       "    }\n",
       "\n",
       "    .dataframe thead th {\n",
       "        text-align: right;\n",
       "    }\n",
       "</style>\n",
       "<table border=\"1\" class=\"dataframe\">\n",
       "  <thead>\n",
       "    <tr style=\"text-align: right;\">\n",
       "      <th></th>\n",
       "      <th>code</th>\n",
       "      <th>name</th>\n",
       "      <th>date</th>\n",
       "      <th>stock_code</th>\n",
       "      <th>stock_name</th>\n",
       "      <th>hold_amt</th>\n",
       "      <th>hold_amt_chg</th>\n",
       "      <th>hold_to_float</th>\n",
       "      <th>hold_mkv</th>\n",
       "      <th>hold_pct</th>\n",
       "      <th>type</th>\n",
       "      <th>manager</th>\n",
       "      <th>industry</th>\n",
       "      <th>sector</th>\n",
       "    </tr>\n",
       "  </thead>\n",
       "  <tbody>\n",
       "    <tr>\n",
       "      <th>0</th>\n",
       "      <td>000011.OF</td>\n",
       "      <td>华夏大盘精选</td>\n",
       "      <td>2007-03-31</td>\n",
       "      <td>000819.SZ</td>\n",
       "      <td>岳阳兴长</td>\n",
       "      <td>519.4234</td>\n",
       "      <td>201.7945</td>\n",
       "      <td>6.444387</td>\n",
       "      <td>11390.955162</td>\n",
       "      <td>3.928866</td>\n",
       "      <td>偏股混合型基金</td>\n",
       "      <td>华夏基金管理有限公司</td>\n",
       "      <td>化工</td>\n",
       "      <td>周期</td>\n",
       "    </tr>\n",
       "    <tr>\n",
       "      <th>1</th>\n",
       "      <td>000011.OF</td>\n",
       "      <td>华夏大盘精选</td>\n",
       "      <td>2007-03-31</td>\n",
       "      <td>600570.SH</td>\n",
       "      <td>恒生电子</td>\n",
       "      <td>524.9713</td>\n",
       "      <td>14.8163</td>\n",
       "      <td>4.784719</td>\n",
       "      <td>10000.703265</td>\n",
       "      <td>3.449353</td>\n",
       "      <td>偏股混合型基金</td>\n",
       "      <td>华夏基金管理有限公司</td>\n",
       "      <td>计算机</td>\n",
       "      <td>制造</td>\n",
       "    </tr>\n",
       "  </tbody>\n",
       "</table>\n",
       "</div>"
      ],
      "text/plain": [
       "        code    name       date stock_code stock_name  hold_amt  hold_amt_chg  \\\n",
       "0  000011.OF  华夏大盘精选 2007-03-31  000819.SZ       岳阳兴长  519.4234      201.7945   \n",
       "1  000011.OF  华夏大盘精选 2007-03-31  600570.SH       恒生电子  524.9713       14.8163   \n",
       "\n",
       "   hold_to_float      hold_mkv  hold_pct     type     manager industry sector  \n",
       "0       6.444387  11390.955162  3.928866  偏股混合型基金  华夏基金管理有限公司       化工     周期  \n",
       "1       4.784719  10000.703265  3.449353  偏股混合型基金  华夏基金管理有限公司      计算机     制造  "
      ]
     },
     "execution_count": 34,
     "metadata": {},
     "output_type": "execute_result"
    }
   ],
   "source": [
    "portfolios.head(2)"
   ]
  },
  {
   "cell_type": "markdown",
   "metadata": {},
   "source": [
    "指标含义：\n",
    "+ $hold\\_amt$：持有股数\n",
    "+ $hold\\_amt\\_chg$：持有股数变化\n",
    "+ $hold\\_to\\_float$：持有股数占流通股比例\n",
    "+ $hold\\_mkv$：持有股票市值\n",
    "+ $hold\\_pct$：持有股票市值占该基金股票投资资金比例"
   ]
  },
  {
   "cell_type": "markdown",
   "metadata": {},
   "source": [
    "**A. 机构配置偏好**"
   ]
  },
  {
   "cell_type": "markdown",
   "metadata": {},
   "source": [
    "> $inv\\_pct$：绝对配置比例 = 所有基金在该股票上持股市值/所有基金的全部股票持仓市值"
   ]
  },
  {
   "cell_type": "code",
   "execution_count": 35,
   "metadata": {},
   "outputs": [],
   "source": [
    "portfolios['inv_pct'] = portfolios[['date', 'hold_mkv']].groupby('date').apply(\n",
    "    lambda df: df['hold_mkv']/df['hold_mkv'].sum()).values"
   ]
  },
  {
   "cell_type": "code",
   "execution_count": 36,
   "metadata": {},
   "outputs": [],
   "source": [
    "# 按日期和股票统计所有基金持有该股票市值占总投资资金的比例\n",
    "hold_pct = portfolios[['date', 'stock_code', 'inv_pct']].groupby(['date', 'stock_code']).sum() * 100\n",
    "hold_pct.columns = ['abs_inv_pct']\n",
    "hold_pct.reset_index(inplace=True)"
   ]
  },
  {
   "cell_type": "code",
   "execution_count": 37,
   "metadata": {},
   "outputs": [
    {
     "data": {
      "text/html": [
       "<div>\n",
       "<style scoped>\n",
       "    .dataframe tbody tr th:only-of-type {\n",
       "        vertical-align: middle;\n",
       "    }\n",
       "\n",
       "    .dataframe tbody tr th {\n",
       "        vertical-align: top;\n",
       "    }\n",
       "\n",
       "    .dataframe thead th {\n",
       "        text-align: right;\n",
       "    }\n",
       "</style>\n",
       "<table border=\"1\" class=\"dataframe\">\n",
       "  <thead>\n",
       "    <tr style=\"text-align: right;\">\n",
       "      <th></th>\n",
       "      <th>date</th>\n",
       "      <th>stock_code</th>\n",
       "      <th>abs_inv_pct</th>\n",
       "    </tr>\n",
       "  </thead>\n",
       "  <tbody>\n",
       "    <tr>\n",
       "      <th>11447</th>\n",
       "      <td>2020-09-30</td>\n",
       "      <td>688536.SH</td>\n",
       "      <td>0.015441</td>\n",
       "    </tr>\n",
       "    <tr>\n",
       "      <th>11448</th>\n",
       "      <td>2020-09-30</td>\n",
       "      <td>688567.SH</td>\n",
       "      <td>0.041453</td>\n",
       "    </tr>\n",
       "  </tbody>\n",
       "</table>\n",
       "</div>"
      ],
      "text/plain": [
       "            date stock_code  abs_inv_pct\n",
       "11447 2020-09-30  688536.SH     0.015441\n",
       "11448 2020-09-30  688567.SH     0.041453"
      ]
     },
     "execution_count": 37,
     "metadata": {},
     "output_type": "execute_result"
    }
   ],
   "source": [
    "hold_pct.tail(2)"
   ]
  },
  {
   "cell_type": "markdown",
   "metadata": {},
   "source": [
    "> $excess\\_inv\\_pct$：超额配置比例 = 绝对配置比例 - 股票流通市值占全市场股票流通市值比例"
   ]
  },
  {
   "cell_type": "code",
   "execution_count": 38,
   "metadata": {},
   "outputs": [],
   "source": [
    "stock_mkv = pd.read_csv('stock_mkv.csv', parse_dates=['date'])"
   ]
  },
  {
   "cell_type": "code",
   "execution_count": 39,
   "metadata": {},
   "outputs": [],
   "source": [
    "# 计算股票在全市场流通市值中的比例\n",
    "stock_mkv['mkv_pct'] = stock_mkv.groupby('date').apply(lambda df:df['mkv']/df['mkv'].sum()).values\n",
    "\n",
    "# 计算基金超额配置比例\n",
    "hold_pct = pd.merge(left=hold_pct, right=stock_mkv[['date', 'stock_code', 'mkv_pct']], on=['date', 'stock_code'], how='left')\n",
    "hold_pct['excess_inv_pct'] = hold_pct['abs_inv_pct'] - hold_pct['mkv_pct'] * 100\n",
    "hold_pct.drop(columns='mkv_pct', inplace=True)"
   ]
  },
  {
   "cell_type": "code",
   "execution_count": 40,
   "metadata": {},
   "outputs": [
    {
     "data": {
      "text/html": [
       "<div>\n",
       "<style scoped>\n",
       "    .dataframe tbody tr th:only-of-type {\n",
       "        vertical-align: middle;\n",
       "    }\n",
       "\n",
       "    .dataframe tbody tr th {\n",
       "        vertical-align: top;\n",
       "    }\n",
       "\n",
       "    .dataframe thead th {\n",
       "        text-align: right;\n",
       "    }\n",
       "</style>\n",
       "<table border=\"1\" class=\"dataframe\">\n",
       "  <thead>\n",
       "    <tr style=\"text-align: right;\">\n",
       "      <th></th>\n",
       "      <th>date</th>\n",
       "      <th>stock_code</th>\n",
       "      <th>abs_inv_pct</th>\n",
       "      <th>excess_inv_pct</th>\n",
       "    </tr>\n",
       "  </thead>\n",
       "  <tbody>\n",
       "    <tr>\n",
       "      <th>11447</th>\n",
       "      <td>2020-09-30</td>\n",
       "      <td>688536.SH</td>\n",
       "      <td>0.015441</td>\n",
       "      <td>0.015209</td>\n",
       "    </tr>\n",
       "    <tr>\n",
       "      <th>11448</th>\n",
       "      <td>2020-09-30</td>\n",
       "      <td>688567.SH</td>\n",
       "      <td>0.041453</td>\n",
       "      <td>0.041136</td>\n",
       "    </tr>\n",
       "  </tbody>\n",
       "</table>\n",
       "</div>"
      ],
      "text/plain": [
       "            date stock_code  abs_inv_pct  excess_inv_pct\n",
       "11447 2020-09-30  688536.SH     0.015441        0.015209\n",
       "11448 2020-09-30  688567.SH     0.041453        0.041136"
      ]
     },
     "execution_count": 40,
     "metadata": {},
     "output_type": "execute_result"
    }
   ],
   "source": [
    "hold_pct.tail(2)"
   ]
  },
  {
   "cell_type": "markdown",
   "metadata": {},
   "source": [
    ">$fund\\_pct$：持有某股票的基金数量占总基金数量的比例"
   ]
  },
  {
   "cell_type": "code",
   "execution_count": 41,
   "metadata": {},
   "outputs": [],
   "source": [
    "q_funds_count = portfolios.groupby(['date']).apply(lambda df: len(df['code'].unique())).to_frame()\n",
    "q_funds_count.columns = ['q_funds_count']"
   ]
  },
  {
   "cell_type": "code",
   "execution_count": 42,
   "metadata": {},
   "outputs": [],
   "source": [
    "s_funds_count = portfolios.groupby(['date', 'stock_code'])['code'].count().to_frame()\n",
    "s_funds_count.columns = ['s_funds_count']\n",
    "funds_count = pd.merge(left=s_funds_count.reset_index(), right=q_funds_count, on='date' ,how='left')"
   ]
  },
  {
   "cell_type": "code",
   "execution_count": 43,
   "metadata": {},
   "outputs": [
    {
     "data": {
      "text/html": [
       "<div>\n",
       "<style scoped>\n",
       "    .dataframe tbody tr th:only-of-type {\n",
       "        vertical-align: middle;\n",
       "    }\n",
       "\n",
       "    .dataframe tbody tr th {\n",
       "        vertical-align: top;\n",
       "    }\n",
       "\n",
       "    .dataframe thead th {\n",
       "        text-align: right;\n",
       "    }\n",
       "</style>\n",
       "<table border=\"1\" class=\"dataframe\">\n",
       "  <thead>\n",
       "    <tr style=\"text-align: right;\">\n",
       "      <th></th>\n",
       "      <th>date</th>\n",
       "      <th>stock_code</th>\n",
       "      <th>fund_pct</th>\n",
       "    </tr>\n",
       "  </thead>\n",
       "  <tbody>\n",
       "    <tr>\n",
       "      <th>11447</th>\n",
       "      <td>2020-09-30</td>\n",
       "      <td>688536.SH</td>\n",
       "      <td>0.8</td>\n",
       "    </tr>\n",
       "    <tr>\n",
       "      <th>11448</th>\n",
       "      <td>2020-09-30</td>\n",
       "      <td>688567.SH</td>\n",
       "      <td>0.8</td>\n",
       "    </tr>\n",
       "  </tbody>\n",
       "</table>\n",
       "</div>"
      ],
      "text/plain": [
       "            date stock_code  fund_pct\n",
       "11447 2020-09-30  688536.SH       0.8\n",
       "11448 2020-09-30  688567.SH       0.8"
      ]
     },
     "execution_count": 43,
     "metadata": {},
     "output_type": "execute_result"
    }
   ],
   "source": [
    "funds_count['fund_pct'] = funds_count['s_funds_count']/funds_count['q_funds_count'] * 100\n",
    "funds_count.drop(columns=['s_funds_count', 'q_funds_count'], inplace=True)\n",
    "funds_count.tail(2)"
   ]
  },
  {
   "cell_type": "markdown",
   "metadata": {},
   "source": [
    "**B. 机构话语权**"
   ]
  },
  {
   "cell_type": "markdown",
   "metadata": {},
   "source": [
    "> $hold\\_mkv$：基金在某股票上的投资总额"
   ]
  },
  {
   "cell_type": "code",
   "execution_count": 44,
   "metadata": {},
   "outputs": [
    {
     "data": {
      "text/html": [
       "<div>\n",
       "<style scoped>\n",
       "    .dataframe tbody tr th:only-of-type {\n",
       "        vertical-align: middle;\n",
       "    }\n",
       "\n",
       "    .dataframe tbody tr th {\n",
       "        vertical-align: top;\n",
       "    }\n",
       "\n",
       "    .dataframe thead th {\n",
       "        text-align: right;\n",
       "    }\n",
       "</style>\n",
       "<table border=\"1\" class=\"dataframe\">\n",
       "  <thead>\n",
       "    <tr style=\"text-align: right;\">\n",
       "      <th></th>\n",
       "      <th>date</th>\n",
       "      <th>stock_code</th>\n",
       "      <th>hold_mkv</th>\n",
       "    </tr>\n",
       "  </thead>\n",
       "  <tbody>\n",
       "    <tr>\n",
       "      <th>11447</th>\n",
       "      <td>2020-09-30</td>\n",
       "      <td>688536.SH</td>\n",
       "      <td>3479.80000</td>\n",
       "    </tr>\n",
       "    <tr>\n",
       "      <th>11448</th>\n",
       "      <td>2020-09-30</td>\n",
       "      <td>688567.SH</td>\n",
       "      <td>9341.96367</td>\n",
       "    </tr>\n",
       "  </tbody>\n",
       "</table>\n",
       "</div>"
      ],
      "text/plain": [
       "            date stock_code    hold_mkv\n",
       "11447 2020-09-30  688536.SH  3479.80000\n",
       "11448 2020-09-30  688567.SH  9341.96367"
      ]
     },
     "execution_count": 44,
     "metadata": {},
     "output_type": "execute_result"
    }
   ],
   "source": [
    "hold_mkv = portfolios.groupby(['date', 'stock_code'], as_index=False)['hold_mkv'].sum()\n",
    "hold_mkv.tail(2)"
   ]
  },
  {
   "cell_type": "markdown",
   "metadata": {},
   "source": [
    "> $hold\\_to\\_float$：股本配置比例 = 基金配置的流通股数/全流通股数"
   ]
  },
  {
   "cell_type": "code",
   "execution_count": 45,
   "metadata": {},
   "outputs": [
    {
     "data": {
      "text/html": [
       "<div>\n",
       "<style scoped>\n",
       "    .dataframe tbody tr th:only-of-type {\n",
       "        vertical-align: middle;\n",
       "    }\n",
       "\n",
       "    .dataframe tbody tr th {\n",
       "        vertical-align: top;\n",
       "    }\n",
       "\n",
       "    .dataframe thead th {\n",
       "        text-align: right;\n",
       "    }\n",
       "</style>\n",
       "<table border=\"1\" class=\"dataframe\">\n",
       "  <thead>\n",
       "    <tr style=\"text-align: right;\">\n",
       "      <th></th>\n",
       "      <th>date</th>\n",
       "      <th>stock_code</th>\n",
       "      <th>hold_to_float</th>\n",
       "    </tr>\n",
       "  </thead>\n",
       "  <tbody>\n",
       "    <tr>\n",
       "      <th>11447</th>\n",
       "      <td>2020-09-30</td>\n",
       "      <td>688536.SH</td>\n",
       "      <td>0.757640</td>\n",
       "    </tr>\n",
       "    <tr>\n",
       "      <th>11448</th>\n",
       "      <td>2020-09-30</td>\n",
       "      <td>688567.SH</td>\n",
       "      <td>2.468662</td>\n",
       "    </tr>\n",
       "  </tbody>\n",
       "</table>\n",
       "</div>"
      ],
      "text/plain": [
       "            date stock_code  hold_to_float\n",
       "11447 2020-09-30  688536.SH       0.757640\n",
       "11448 2020-09-30  688567.SH       2.468662"
      ]
     },
     "execution_count": 45,
     "metadata": {},
     "output_type": "execute_result"
    }
   ],
   "source": [
    "share_pct = portfolios[['date', 'stock_code', 'hold_to_float']].groupby(['date', 'stock_code'], as_index=False).sum()\n",
    "share_pct.tail(2)"
   ]
  },
  {
   "cell_type": "markdown",
   "metadata": {},
   "source": [
    "**因子整合及处理**"
   ]
  },
  {
   "cell_type": "code",
   "execution_count": 46,
   "metadata": {},
   "outputs": [],
   "source": [
    "factors = pd.concat([hold_mkv.set_index(['date', 'stock_code']),\n",
    "                     share_pct.set_index(['date', 'stock_code']),\n",
    "                     funds_count.set_index(['date', 'stock_code']),\n",
    "                     hold_pct.set_index(['date', 'stock_code'])], axis=1).reset_index()"
   ]
  },
  {
   "cell_type": "code",
   "execution_count": 47,
   "metadata": {},
   "outputs": [
    {
     "data": {
      "text/html": [
       "<div>\n",
       "<style scoped>\n",
       "    .dataframe tbody tr th:only-of-type {\n",
       "        vertical-align: middle;\n",
       "    }\n",
       "\n",
       "    .dataframe tbody tr th {\n",
       "        vertical-align: top;\n",
       "    }\n",
       "\n",
       "    .dataframe thead th {\n",
       "        text-align: right;\n",
       "    }\n",
       "</style>\n",
       "<table border=\"1\" class=\"dataframe\">\n",
       "  <thead>\n",
       "    <tr style=\"text-align: right;\">\n",
       "      <th></th>\n",
       "      <th>date</th>\n",
       "      <th>stock_code</th>\n",
       "      <th>hold_mkv</th>\n",
       "      <th>hold_to_float</th>\n",
       "      <th>fund_pct</th>\n",
       "      <th>abs_inv_pct</th>\n",
       "      <th>excess_inv_pct</th>\n",
       "    </tr>\n",
       "  </thead>\n",
       "  <tbody>\n",
       "    <tr>\n",
       "      <th>0</th>\n",
       "      <td>2007-03-31</td>\n",
       "      <td>000002.SZ</td>\n",
       "      <td>54870.072915</td>\n",
       "      <td>1.016332</td>\n",
       "      <td>7.692308</td>\n",
       "      <td>2.694006</td>\n",
       "      <td>-26.268766</td>\n",
       "    </tr>\n",
       "    <tr>\n",
       "      <th>1</th>\n",
       "      <td>2007-03-31</td>\n",
       "      <td>000039.SZ</td>\n",
       "      <td>47934.532983</td>\n",
       "      <td>2.934510</td>\n",
       "      <td>15.384615</td>\n",
       "      <td>2.353485</td>\n",
       "      <td>-9.139847</td>\n",
       "    </tr>\n",
       "    <tr>\n",
       "      <th>2</th>\n",
       "      <td>2007-03-31</td>\n",
       "      <td>000060.SZ</td>\n",
       "      <td>33865.804350</td>\n",
       "      <td>3.173655</td>\n",
       "      <td>7.692308</td>\n",
       "      <td>1.662740</td>\n",
       "      <td>1.661915</td>\n",
       "    </tr>\n",
       "    <tr>\n",
       "      <th>3</th>\n",
       "      <td>2007-03-31</td>\n",
       "      <td>000061.SZ</td>\n",
       "      <td>6644.092735</td>\n",
       "      <td>1.446126</td>\n",
       "      <td>7.692308</td>\n",
       "      <td>0.326211</td>\n",
       "      <td>0.325902</td>\n",
       "    </tr>\n",
       "    <tr>\n",
       "      <th>4</th>\n",
       "      <td>2007-03-31</td>\n",
       "      <td>000069.SZ</td>\n",
       "      <td>5852.800000</td>\n",
       "      <td>0.602196</td>\n",
       "      <td>7.692308</td>\n",
       "      <td>0.287360</td>\n",
       "      <td>0.286353</td>\n",
       "    </tr>\n",
       "  </tbody>\n",
       "</table>\n",
       "</div>"
      ],
      "text/plain": [
       "        date stock_code      hold_mkv  hold_to_float   fund_pct  abs_inv_pct  \\\n",
       "0 2007-03-31  000002.SZ  54870.072915       1.016332   7.692308     2.694006   \n",
       "1 2007-03-31  000039.SZ  47934.532983       2.934510  15.384615     2.353485   \n",
       "2 2007-03-31  000060.SZ  33865.804350       3.173655   7.692308     1.662740   \n",
       "3 2007-03-31  000061.SZ   6644.092735       1.446126   7.692308     0.326211   \n",
       "4 2007-03-31  000069.SZ   5852.800000       0.602196   7.692308     0.287360   \n",
       "\n",
       "   excess_inv_pct  \n",
       "0      -26.268766  \n",
       "1       -9.139847  \n",
       "2        1.661915  \n",
       "3        0.325902  \n",
       "4        0.286353  "
      ]
     },
     "execution_count": 47,
     "metadata": {},
     "output_type": "execute_result"
    }
   ],
   "source": [
    "factors.head()"
   ]
  },
  {
   "cell_type": "code",
   "execution_count": 48,
   "metadata": {},
   "outputs": [],
   "source": [
    "# 生成因子的变化值\n",
    "def GetFactorChg(factors, cols):\n",
    "    factors_chg = []\n",
    "    for col in cols:\n",
    "        if col != 'excess_inv_pct':  \n",
    "            pivot = factors.pivot(index='date', columns='stock_code', values=col).fillna(0)\n",
    "        else:\n",
    "            pivot = factors.pivot(index='date', columns='stock_code', values='abs_inv_pct').fillna(0)\n",
    "            pivot_stock_mkv = stock_mkv.pivot(index='date', columns='stock_code', values='mkv_pct').fillna(0)\n",
    "            pivot = pivot - pivot_stock_mkv.loc[:,pivot.columns]\n",
    "            \n",
    "        pivot_chg = pivot - pivot.shift(1)        \n",
    "        pivot_chg = pivot_chg.stack().to_frame()\n",
    "        pivot_chg.columns = [col+'_chg']\n",
    "        factors_chg.append(pivot_chg)\n",
    "    \n",
    "    factors_chg = pd.concat(factors_chg, axis=1)\n",
    "    return factors_chg.reset_index()"
   ]
  },
  {
   "cell_type": "code",
   "execution_count": 49,
   "metadata": {},
   "outputs": [],
   "source": [
    "cols = ['hold_mkv', 'hold_to_float', 'fund_pct', 'abs_inv_pct', 'excess_inv_pct']\n",
    "factors_chg = GetFactorChg(factors, cols)\n",
    "factors = pd.merge(left=factors, right=factors_chg, on = ['date', 'stock_code'], how='left')"
   ]
  },
  {
   "cell_type": "code",
   "execution_count": 50,
   "metadata": {},
   "outputs": [],
   "source": [
    "# 因子截面标准化+缩尾\n",
    "def factor_processing(df):\n",
    "    for col in df.columns:\n",
    "        if col != 'stock_code':\n",
    "            df[col] = (df[col] - np.mean(df[col]))/np.std(df[col])\n",
    "            df[col] = df[col].map(lambda x: 3*np.sign(x) if np.abs(x) > 3 else x)\n",
    "    return df"
   ]
  },
  {
   "cell_type": "code",
   "execution_count": 51,
   "metadata": {},
   "outputs": [
    {
     "data": {
      "text/html": [
       "<div>\n",
       "<style scoped>\n",
       "    .dataframe tbody tr th:only-of-type {\n",
       "        vertical-align: middle;\n",
       "    }\n",
       "\n",
       "    .dataframe tbody tr th {\n",
       "        vertical-align: top;\n",
       "    }\n",
       "\n",
       "    .dataframe thead th {\n",
       "        text-align: right;\n",
       "    }\n",
       "</style>\n",
       "<table border=\"1\" class=\"dataframe\">\n",
       "  <thead>\n",
       "    <tr style=\"text-align: right;\">\n",
       "      <th></th>\n",
       "      <th>date</th>\n",
       "      <th>stock_code</th>\n",
       "      <th>hold_mkv</th>\n",
       "      <th>hold_to_float</th>\n",
       "      <th>fund_pct</th>\n",
       "      <th>abs_inv_pct</th>\n",
       "      <th>excess_inv_pct</th>\n",
       "      <th>hold_mkv_chg</th>\n",
       "      <th>hold_to_float_chg</th>\n",
       "      <th>fund_pct_chg</th>\n",
       "      <th>abs_inv_pct_chg</th>\n",
       "      <th>excess_inv_pct_chg</th>\n",
       "    </tr>\n",
       "  </thead>\n",
       "  <tbody>\n",
       "    <tr>\n",
       "      <th>11444</th>\n",
       "      <td>2020-09-30</td>\n",
       "      <td>688266.SH</td>\n",
       "      <td>-0.497276</td>\n",
       "      <td>-0.178266</td>\n",
       "      <td>-0.523547</td>\n",
       "      <td>-0.497276</td>\n",
       "      <td>-0.027266</td>\n",
       "      <td>0.079506</td>\n",
       "      <td>0.558255</td>\n",
       "      <td>0.129695</td>\n",
       "      <td>-0.021156</td>\n",
       "      <td>-0.020969</td>\n",
       "    </tr>\n",
       "    <tr>\n",
       "      <th>11445</th>\n",
       "      <td>2020-09-30</td>\n",
       "      <td>688363.SH</td>\n",
       "      <td>-0.462406</td>\n",
       "      <td>0.006680</td>\n",
       "      <td>-0.523547</td>\n",
       "      <td>-0.462406</td>\n",
       "      <td>-0.020267</td>\n",
       "      <td>0.012825</td>\n",
       "      <td>0.078256</td>\n",
       "      <td>-0.110465</td>\n",
       "      <td>-0.077263</td>\n",
       "      <td>-0.077072</td>\n",
       "    </tr>\n",
       "    <tr>\n",
       "      <th>11446</th>\n",
       "      <td>2020-09-30</td>\n",
       "      <td>688368.SH</td>\n",
       "      <td>-0.520686</td>\n",
       "      <td>0.237767</td>\n",
       "      <td>-0.523547</td>\n",
       "      <td>-0.520686</td>\n",
       "      <td>-0.032036</td>\n",
       "      <td>0.053228</td>\n",
       "      <td>0.894860</td>\n",
       "      <td>0.129695</td>\n",
       "      <td>-0.050446</td>\n",
       "      <td>-0.050260</td>\n",
       "    </tr>\n",
       "    <tr>\n",
       "      <th>11447</th>\n",
       "      <td>2020-09-30</td>\n",
       "      <td>688536.SH</td>\n",
       "      <td>-0.534447</td>\n",
       "      <td>-0.543516</td>\n",
       "      <td>-0.523547</td>\n",
       "      <td>-0.534447</td>\n",
       "      <td>-0.034922</td>\n",
       "      <td>0.037783</td>\n",
       "      <td>0.262738</td>\n",
       "      <td>0.129695</td>\n",
       "      <td>-0.067662</td>\n",
       "      <td>-0.067480</td>\n",
       "    </tr>\n",
       "    <tr>\n",
       "      <th>11448</th>\n",
       "      <td>2020-09-30</td>\n",
       "      <td>688567.SH</td>\n",
       "      <td>-0.485025</td>\n",
       "      <td>0.303136</td>\n",
       "      <td>-0.523547</td>\n",
       "      <td>-0.485025</td>\n",
       "      <td>-0.024768</td>\n",
       "      <td>0.093256</td>\n",
       "      <td>0.947749</td>\n",
       "      <td>0.129695</td>\n",
       "      <td>-0.005829</td>\n",
       "      <td>-0.005651</td>\n",
       "    </tr>\n",
       "  </tbody>\n",
       "</table>\n",
       "</div>"
      ],
      "text/plain": [
       "            date stock_code  hold_mkv  hold_to_float  fund_pct  abs_inv_pct  \\\n",
       "11444 2020-09-30  688266.SH -0.497276      -0.178266 -0.523547    -0.497276   \n",
       "11445 2020-09-30  688363.SH -0.462406       0.006680 -0.523547    -0.462406   \n",
       "11446 2020-09-30  688368.SH -0.520686       0.237767 -0.523547    -0.520686   \n",
       "11447 2020-09-30  688536.SH -0.534447      -0.543516 -0.523547    -0.534447   \n",
       "11448 2020-09-30  688567.SH -0.485025       0.303136 -0.523547    -0.485025   \n",
       "\n",
       "       excess_inv_pct  hold_mkv_chg  hold_to_float_chg  fund_pct_chg  \\\n",
       "11444       -0.027266      0.079506           0.558255      0.129695   \n",
       "11445       -0.020267      0.012825           0.078256     -0.110465   \n",
       "11446       -0.032036      0.053228           0.894860      0.129695   \n",
       "11447       -0.034922      0.037783           0.262738      0.129695   \n",
       "11448       -0.024768      0.093256           0.947749      0.129695   \n",
       "\n",
       "       abs_inv_pct_chg  excess_inv_pct_chg  \n",
       "11444        -0.021156           -0.020969  \n",
       "11445        -0.077263           -0.077072  \n",
       "11446        -0.050446           -0.050260  \n",
       "11447        -0.067662           -0.067480  \n",
       "11448        -0.005829           -0.005651  "
      ]
     },
     "execution_count": 51,
     "metadata": {},
     "output_type": "execute_result"
    }
   ],
   "source": [
    "factors = factors.set_index('date').groupby('date').apply(factor_processing).reset_index()\n",
    "factors.tail()"
   ]
  },
  {
   "cell_type": "code",
   "execution_count": 52,
   "metadata": {},
   "outputs": [
    {
     "data": {
      "image/png": "[encoded data removed]",
      "text/plain": [
       "<Figure size 1440x576 with 10 Axes>"
      ]
     },
     "metadata": {},
     "output_type": "display_data"
    }
   ],
   "source": [
    "hist = factors.hist(figsize=(20,8), layout = (2,5))"
   ]
  },
  {
   "cell_type": "code",
   "execution_count": 53,
   "metadata": {},
   "outputs": [],
   "source": [
    "# 股票代码和股票简称的字典\n",
    "stock_name = pd.read_csv('stock_name.csv', index_col='stock_code')\n",
    "stock_name = stock_name.to_dict()['name']"
   ]
  },
  {
   "cell_type": "code",
   "execution_count": 54,
   "metadata": {},
   "outputs": [],
   "source": [
    "# 绘制表格查看每个综合因子得分前十的股票\n",
    "def ViewTable(factors, by, top=10):\n",
    "\n",
    "    def TopStocks(df, by, top=10):\n",
    "        df = df.sort_values(by=by, ascending=False)\n",
    "        top_stocks = pd.DataFrame()\n",
    "\n",
    "        for i in range(top):\n",
    "            top_stocks['rank_{}'.format(i+1)] = [df['stock_code'].iloc[i]]\n",
    "        return top_stocks\n",
    "    \n",
    "    table = factors.groupby('date').apply(TopStocks, by=by, top=top)\n",
    "    table.index = table.index.levels[0]\n",
    "    table = table.applymap(lambda x: stock_name[x])\n",
    "\n",
    "    return table.sort_index(ascending=False)"
   ]
  },
  {
   "cell_type": "code",
   "execution_count": 55,
   "metadata": {},
   "outputs": [
    {
     "data": {
      "text/html": [
       "<div>\n",
       "<style scoped>\n",
       "    .dataframe tbody tr th:only-of-type {\n",
       "        vertical-align: middle;\n",
       "    }\n",
       "\n",
       "    .dataframe tbody tr th {\n",
       "        vertical-align: top;\n",
       "    }\n",
       "\n",
       "    .dataframe thead th {\n",
       "        text-align: right;\n",
       "    }\n",
       "</style>\n",
       "<table border=\"1\" class=\"dataframe\">\n",
       "  <thead>\n",
       "    <tr style=\"text-align: right;\">\n",
       "      <th></th>\n",
       "      <th>rank_1</th>\n",
       "      <th>rank_2</th>\n",
       "      <th>rank_3</th>\n",
       "      <th>rank_4</th>\n",
       "      <th>rank_5</th>\n",
       "      <th>rank_6</th>\n",
       "      <th>rank_7</th>\n",
       "      <th>rank_8</th>\n",
       "      <th>rank_9</th>\n",
       "      <th>rank_10</th>\n",
       "    </tr>\n",
       "    <tr>\n",
       "      <th>date</th>\n",
       "      <th></th>\n",
       "      <th></th>\n",
       "      <th></th>\n",
       "      <th></th>\n",
       "      <th></th>\n",
       "      <th></th>\n",
       "      <th></th>\n",
       "      <th></th>\n",
       "      <th></th>\n",
       "      <th></th>\n",
       "    </tr>\n",
       "  </thead>\n",
       "  <tbody>\n",
       "    <tr>\n",
       "      <th>2020-09-30</th>\n",
       "      <td>隆基股份</td>\n",
       "      <td>贵州茅台</td>\n",
       "      <td>五粮液</td>\n",
       "      <td>通威股份</td>\n",
       "      <td>顺丰控股</td>\n",
       "      <td>京东方A</td>\n",
       "      <td>中国中免</td>\n",
       "      <td>伊利股份</td>\n",
       "      <td>美的集团</td>\n",
       "      <td>智飞生物</td>\n",
       "    </tr>\n",
       "    <tr>\n",
       "      <th>2020-06-30</th>\n",
       "      <td>药明康德</td>\n",
       "      <td>圣邦股份</td>\n",
       "      <td>长春高新</td>\n",
       "      <td>恒瑞医药</td>\n",
       "      <td>立讯精密</td>\n",
       "      <td>隆基股份</td>\n",
       "      <td>兆易创新</td>\n",
       "      <td>恒生电子</td>\n",
       "      <td>金山办公</td>\n",
       "      <td>宁德时代</td>\n",
       "    </tr>\n",
       "    <tr>\n",
       "      <th>2020-03-31</th>\n",
       "      <td>迈瑞医疗</td>\n",
       "      <td>康泰生物</td>\n",
       "      <td>乐普医疗</td>\n",
       "      <td>健帆生物</td>\n",
       "      <td>浪潮信息</td>\n",
       "      <td>恒生电子</td>\n",
       "      <td>中公教育</td>\n",
       "      <td>恒瑞医药</td>\n",
       "      <td>用友网络</td>\n",
       "      <td>绝味食品</td>\n",
       "    </tr>\n",
       "    <tr>\n",
       "      <th>2019-12-31</th>\n",
       "      <td>康泰生物</td>\n",
       "      <td>长春高新</td>\n",
       "      <td>三一重工</td>\n",
       "      <td>万科A</td>\n",
       "      <td>恒瑞医药</td>\n",
       "      <td>立讯精密</td>\n",
       "      <td>古井贡酒</td>\n",
       "      <td>亿纬锂能</td>\n",
       "      <td>中兴通讯</td>\n",
       "      <td>格力电器</td>\n",
       "    </tr>\n",
       "    <tr>\n",
       "      <th>2019-09-30</th>\n",
       "      <td>药明康德</td>\n",
       "      <td>立讯精密</td>\n",
       "      <td>恒瑞医药</td>\n",
       "      <td>华兰生物</td>\n",
       "      <td>海康威视</td>\n",
       "      <td>长春高新</td>\n",
       "      <td>顺鑫农业</td>\n",
       "      <td>金域医学</td>\n",
       "      <td>海大集团</td>\n",
       "      <td>汇顶科技</td>\n",
       "    </tr>\n",
       "  </tbody>\n",
       "</table>\n",
       "</div>"
      ],
      "text/plain": [
       "           rank_1 rank_2 rank_3 rank_4 rank_5 rank_6 rank_7 rank_8 rank_9  \\\n",
       "date                                                                        \n",
       "2020-09-30   隆基股份   贵州茅台    五粮液   通威股份   顺丰控股   京东方A   中国中免   伊利股份   美的集团   \n",
       "2020-06-30   药明康德   圣邦股份   长春高新   恒瑞医药   立讯精密   隆基股份   兆易创新   恒生电子   金山办公   \n",
       "2020-03-31   迈瑞医疗   康泰生物   乐普医疗   健帆生物   浪潮信息   恒生电子   中公教育   恒瑞医药   用友网络   \n",
       "2019-12-31   康泰生物   长春高新   三一重工    万科A   恒瑞医药   立讯精密   古井贡酒   亿纬锂能   中兴通讯   \n",
       "2019-09-30   药明康德   立讯精密   恒瑞医药   华兰生物   海康威视   长春高新   顺鑫农业   金域医学   海大集团   \n",
       "\n",
       "           rank_10  \n",
       "date                \n",
       "2020-09-30    智飞生物  \n",
       "2020-06-30    宁德时代  \n",
       "2020-03-31    绝味食品  \n",
       "2019-12-31    格力电器  \n",
       "2019-09-30    汇顶科技  "
      ]
     },
     "execution_count": 55,
     "metadata": {},
     "output_type": "execute_result"
    }
   ],
   "source": [
    "ViewTable(factors, by='hold_mkv_chg', top=10).head()"
   ]
  },
  {
   "cell_type": "code",
   "execution_count": 56,
   "metadata": {},
   "outputs": [],
   "source": [
    "factors['industry'] = factors.apply(lambda series: stock_industry.loc[(series['date'], series['stock_code'])], axis=1)"
   ]
  },
  {
   "cell_type": "markdown",
   "metadata": {},
   "source": [
    "### Step 5：策略回测"
   ]
  },
  {
   "cell_type": "markdown",
   "metadata": {},
   "source": [
    "得多每季度投资的股票及权重"
   ]
  },
  {
   "cell_type": "code",
   "execution_count": 57,
   "metadata": {},
   "outputs": [
    {
     "data": {
      "image/png": "[encoded data removed]",
      "text/plain": [
       "<Figure size 1440x576 with 1 Axes>"
      ]
     },
     "metadata": {},
     "output_type": "display_data"
    }
   ],
   "source": [
    "# 每个季度优选基金覆盖的股票数量\n",
    "plot = factors.groupby('date')['stock_code'].count().plot(figsize=(20,8), title='优选基金覆盖的股票数量')"
   ]
  },
  {
   "cell_type": "code",
   "execution_count": 58,
   "metadata": {},
   "outputs": [],
   "source": [
    "# 选取每个季度得分前top的股票\n",
    "def SelectStocks(factors, by, fac_weights=None, top=20):\n",
    "    if not fac_weights: \n",
    "        fac_weights = [1/top for i in range(len(by))]\n",
    "    fac_weights = np.array(fac_weights).reshape(1,-1)\n",
    "    fac = factors.copy()\n",
    "    fac['score'] = fac[by].apply(lambda row: row.fillna(0).dot(fac_weights.T)[0], axis=1)\n",
    "    \n",
    "    # 根据因子得分选股 限制单一行业最大配置比例为limit\n",
    "    def control_industry(df, top, limit_pct=0.1):\n",
    "        limit = top*limit_pct\n",
    "        ind_count = {}\n",
    "        index = []\n",
    "        df = df.sort_values(by='score', ascending=False)[['stock_code', 'score', 'industry']]\n",
    "        for i in range(len(df)):\n",
    "            ind = df['industry'].iloc[i]\n",
    "            if ind not in ind_count.keys():\n",
    "                ind_count[ind] = 0\n",
    "            else:\n",
    "                ind_count[ind] += 1\n",
    "            \n",
    "            if ind_count[ind] <= limit:\n",
    "                index.append(i)\n",
    "            \n",
    "            if len(index) == top:\n",
    "                break\n",
    "            \n",
    "        return df[['stock_code', 'score']].iloc[index]\n",
    "        \n",
    "    select_stocks = fac.groupby('date').apply(control_industry, top=top)\n",
    "    select_stocks = select_stocks.reset_index().drop(columns='level_1')\n",
    "    select_stocks['score'] = select_stocks['score'].map(lambda x: 0 if x<0 else x)\n",
    "    select_stocks['score_weight'] = select_stocks.groupby('date')['score'].apply(lambda series: series/series.sum())\n",
    "    select_stocks['avg_weight'] = 1/top\n",
    "    \n",
    "    return select_stocks"
   ]
  },
  {
   "cell_type": "code",
   "execution_count": 59,
   "metadata": {},
   "outputs": [
    {
     "data": {
      "text/plain": [
       "['hold_mkv',\n",
       " 'hold_to_float',\n",
       " 'fund_pct',\n",
       " 'abs_inv_pct',\n",
       " 'excess_inv_pct',\n",
       " 'hold_mkv_chg',\n",
       " 'hold_to_float_chg',\n",
       " 'fund_pct_chg',\n",
       " 'abs_inv_pct_chg',\n",
       " 'excess_inv_pct_chg']"
      ]
     },
     "execution_count": 59,
     "metadata": {},
     "output_type": "execute_result"
    }
   ],
   "source": [
    "# 构建的因子列表\n",
    "[col for col in factors.columns if col not in ['date', 'stock_code', 'industry']]"
   ]
  },
  {
   "cell_type": "code",
   "execution_count": 60,
   "metadata": {},
   "outputs": [
    {
     "data": {
      "text/html": [
       "<div>\n",
       "<style scoped>\n",
       "    .dataframe tbody tr th:only-of-type {\n",
       "        vertical-align: middle;\n",
       "    }\n",
       "\n",
       "    .dataframe tbody tr th {\n",
       "        vertical-align: top;\n",
       "    }\n",
       "\n",
       "    .dataframe thead th {\n",
       "        text-align: right;\n",
       "    }\n",
       "</style>\n",
       "<table border=\"1\" class=\"dataframe\">\n",
       "  <thead>\n",
       "    <tr style=\"text-align: right;\">\n",
       "      <th></th>\n",
       "      <th>date</th>\n",
       "      <th>stock_code</th>\n",
       "      <th>score</th>\n",
       "      <th>score_weight</th>\n",
       "      <th>avg_weight</th>\n",
       "    </tr>\n",
       "  </thead>\n",
       "  <tbody>\n",
       "    <tr>\n",
       "      <th>1095</th>\n",
       "      <td>2020-09-30</td>\n",
       "      <td>300760.SZ</td>\n",
       "      <td>0.115434</td>\n",
       "      <td>0.042988</td>\n",
       "      <td>0.05</td>\n",
       "    </tr>\n",
       "    <tr>\n",
       "      <th>1096</th>\n",
       "      <td>2020-09-30</td>\n",
       "      <td>688188.SH</td>\n",
       "      <td>0.114867</td>\n",
       "      <td>0.042777</td>\n",
       "      <td>0.05</td>\n",
       "    </tr>\n",
       "    <tr>\n",
       "      <th>1097</th>\n",
       "      <td>2020-09-30</td>\n",
       "      <td>300037.SZ</td>\n",
       "      <td>0.097693</td>\n",
       "      <td>0.036381</td>\n",
       "      <td>0.05</td>\n",
       "    </tr>\n",
       "    <tr>\n",
       "      <th>1098</th>\n",
       "      <td>2020-09-30</td>\n",
       "      <td>300035.SZ</td>\n",
       "      <td>0.095892</td>\n",
       "      <td>0.035711</td>\n",
       "      <td>0.05</td>\n",
       "    </tr>\n",
       "    <tr>\n",
       "      <th>1099</th>\n",
       "      <td>2020-09-30</td>\n",
       "      <td>002027.SZ</td>\n",
       "      <td>0.093674</td>\n",
       "      <td>0.034885</td>\n",
       "      <td>0.05</td>\n",
       "    </tr>\n",
       "  </tbody>\n",
       "</table>\n",
       "</div>"
      ],
      "text/plain": [
       "           date stock_code     score  score_weight  avg_weight\n",
       "1095 2020-09-30  300760.SZ  0.115434      0.042988        0.05\n",
       "1096 2020-09-30  688188.SH  0.114867      0.042777        0.05\n",
       "1097 2020-09-30  300037.SZ  0.097693      0.036381        0.05\n",
       "1098 2020-09-30  300035.SZ  0.095892      0.035711        0.05\n",
       "1099 2020-09-30  002027.SZ  0.093674      0.034885        0.05"
      ]
     },
     "execution_count": 60,
     "metadata": {},
     "output_type": "execute_result"
    }
   ],
   "source": [
    "# 基于构建的因子选股举例\n",
    "select_stocks = SelectStocks(factors, by=['fund_pct', 'hold_to_float_chg'], top=20)\n",
    "select_stocks.tail()"
   ]
  },
  {
   "cell_type": "markdown",
   "metadata": {},
   "source": [
    "计算策略净值"
   ]
  },
  {
   "cell_type": "code",
   "execution_count": 61,
   "metadata": {},
   "outputs": [],
   "source": [
    "stock_return = pd.read_csv('stock_return.csv',parse_dates = ['date'], index_col='date')\n",
    "stock_return = stock_return/100"
   ]
  },
  {
   "cell_type": "code",
   "execution_count": 62,
   "metadata": {},
   "outputs": [],
   "source": [
    "def GetNav(stock_return, select_stocks, weights='avg_weight'):\n",
    "    \n",
    "    # 基金季报在每个季度结束后15个交易日内披露 获取季度日期和交易日期的对应关系\n",
    "    dates = stock_return.index.tolist()\n",
    "    q_dates = select_stocks['date'].unique()\n",
    "\n",
    "    rebalance_dates=[]\n",
    "    for i in range(len(q_dates)):\n",
    "        dates_after = [d for d in dates if d > q_dates[i]]\n",
    "        rebalance_index = dates.index(dates_after[0]) + 15\n",
    "        if (rebalance_index > (len(dates)-1)):\n",
    "            break\n",
    "        else:\n",
    "            rebalance_date = dates[rebalance_index]\n",
    "            rebalance_dates.append(rebalance_date)\n",
    "        \n",
    "    # key: rebalance_date, value: quarter_end_date\n",
    "    date_map = dict(zip(rebalance_dates, q_dates[:len(rebalance_dates)]))\n",
    "    \n",
    "    strategy_nav = pd.DataFrame(columns=['nav'], index=stock_return.index)  \n",
    "\n",
    "    last_nav = 1 # rebalance_date前一天的策略净值\n",
    "    for i in range(len(rebalance_dates)):\n",
    "        start_date = rebalance_dates[i]\n",
    "\n",
    "        if i < (len(rebalance_dates)-1):\n",
    "            end_date = rebalance_dates[i+1]\n",
    "            date_range = [d for d in dates if (d>=start_date) and (d<end_date)]\n",
    "        else:\n",
    "            date_range = [d for d in dates if d>=start_date]\n",
    "\n",
    "        q_date = date_map[start_date]\n",
    "        stocks = select_stocks.loc[select_stocks['date'] == q_date, 'stock_code']\n",
    "        weight = select_stocks.loc[select_stocks['date'] == q_date, weights].fillna(0)\n",
    "        daily_return = stock_return.loc[date_range, stocks].dot(np.array(weight).reshape(-1,1))\n",
    "        daily_nav = (daily_return+1).cumprod()\n",
    "        cum_daily_nav = daily_nav*last_nav\n",
    "        last_nav = cum_daily_nav.iloc[-1]\n",
    "\n",
    "        strategy_nav.loc[date_range] = cum_daily_nav\n",
    "    return strategy_nav"
   ]
  },
  {
   "cell_type": "code",
   "execution_count": 63,
   "metadata": {},
   "outputs": [],
   "source": [
    "# 选取hold_to_float_chg和fund_pct_chg两个因子等权构建策略\n",
    "cols = ['hold_to_float_chg', 'fund_pct_chg']\n",
    "fac_weights=[0.5, 0.5]\n",
    "\n",
    "select_stocks = SelectStocks(factors, by=cols, fac_weights=fac_weights, top=20)\n",
    "strategy_nav = GetNav(stock_return, select_stocks, weights='avg_weight')\n",
    "strategy_nav = strategy_nav.fillna(1)\n",
    "strategy_nav.columns = ['strategy_nav']"
   ]
  },
  {
   "cell_type": "code",
   "execution_count": 64,
   "metadata": {},
   "outputs": [
    {
     "data": {
      "image/png": "[encoded data removed]",
      "text/plain": [
       "<Figure size 1440x576 with 1 Axes>"
      ]
     },
     "metadata": {},
     "output_type": "display_data"
    }
   ],
   "source": [
    "# 读取benchmark 中证800\n",
    "benchmark = pd.read_csv('benchmark.csv', index_col='date', parse_dates=['date'])\n",
    "benchmark.columns = ['benchmark']\n",
    "\n",
    "nav_start_date = strategy_nav[strategy_nav['strategy_nav'] == 1].index[-1]\n",
    "strategy_nav = strategy_nav.loc[nav_start_date:]\n",
    "nav_df = pd.concat([strategy_nav, benchmark], axis=1,join='inner').dropna()\n",
    "\n",
    "nav_df['benchmark'] = nav_df['benchmark'] / nav_df['benchmark'].iloc[0]\n",
    "\n",
    "plot = nav_df.plot(figsize=(20,8), title='策略净值表现')"
   ]
  },
  {
   "cell_type": "code",
   "execution_count": 65,
   "metadata": {},
   "outputs": [
    {
     "data": {
      "image/png": "[encoded data removed]",
      "text/plain": [
       "<Figure size 1440x576 with 1 Axes>"
      ]
     },
     "metadata": {},
     "output_type": "display_data"
    }
   ],
   "source": [
    "relative_return = (nav_df['strategy_nav'].pct_change().fillna(0) - nav_df['benchmark'].pct_change().fillna(0)).to_frame()\n",
    "relative_nav = (relative_return+1).cumprod()\n",
    "relative_nav.columns = ['相对净值表现']\n",
    "plot = relative_nav.plot(figsize=(20,8), title='策略相对净值表现')"
   ]
  },
  {
   "cell_type": "markdown",
   "metadata": {},
   "source": [
    "计算策略表现"
   ]
  },
  {
   "cell_type": "code",
   "execution_count": 66,
   "metadata": {},
   "outputs": [],
   "source": [
    "# 计算组合收益率分析:年化收益率、收益波动率、夏普比率、最大回撤\n",
    "def strategy_performance(nav_df):\n",
    "    \n",
    "    return_df = nav_df.pct_change().dropna()  # 在计算净值变化率时，首日得到的是缺失值，需将其删除\n",
    "    analyze = pd.DataFrame(columns = ['start_date', 'end_date', 'annual_return', 'return_volatility',\n",
    "                                     'sharpe_ratio'], index= nav_df.columns)  # 用于存储计算的指标\n",
    "    \n",
    "    analyze['start_date'].iloc[0] = nav_df.index[0].strftime('%Y-%m-%d')\n",
    "    analyze['end_date'].iloc[0] = nav_df.index[-1].strftime('%Y-%m-%d')\n",
    "    \n",
    "    # 计算年化收益率\n",
    "    cum_nav = np.exp(np.log1p(return_df).cumsum())\n",
    "    cum_return = cum_nav-1\n",
    "    annual_return = (1+cum_return.iloc[-1])**(252/len(return_df))-1  # 计算年化收益率\n",
    "    analyze['annual_return'] = annual_return\n",
    "\n",
    "    # 计算收益波动率（以年为基准）\n",
    "    analyze['return_volatility'] = return_df.std()*np.sqrt(252)\n",
    "\n",
    "    # 计算夏普比率\n",
    "    risk_free = 0.00\n",
    "    return_risk_adj = return_df-risk_free\n",
    "    analyze['sharpe_ratio'] = return_risk_adj.mean() / np.std(return_risk_adj, ddof=1)\n",
    "\n",
    "    # 计算最大回撤\n",
    "    max_nav = cum_nav.cummax()  # 计算累计收益率的在各个时间段的最大值\n",
    "    analyze['max_drawdown'] = cum_nav.sub(max_nav).div(max_nav).min()  \n",
    "    \n",
    "    return analyze.T\n",
    "\n",
    "def get_return_year(nav_df):\n",
    "\n",
    "    result_dic = {}\n",
    "    for y, df in nav_df.groupby(pd.Grouper(level='date', freq='Y')):\n",
    "        result = strategy_performance(df)\n",
    "        result_dic[y.strftime('%Y')] = result\n",
    "\n",
    "    result_df = pd.concat(result_dic.values(), axis=1)\n",
    "    result_df.columns = result_dic.keys()\n",
    "    return result_df.T"
   ]
  },
  {
   "cell_type": "code",
   "execution_count": 67,
   "metadata": {},
   "outputs": [
    {
     "data": {
      "text/html": [
       "<div>\n",
       "<style scoped>\n",
       "    .dataframe tbody tr th:only-of-type {\n",
       "        vertical-align: middle;\n",
       "    }\n",
       "\n",
       "    .dataframe tbody tr th {\n",
       "        vertical-align: top;\n",
       "    }\n",
       "\n",
       "    .dataframe thead th {\n",
       "        text-align: right;\n",
       "    }\n",
       "</style>\n",
       "<table border=\"1\" class=\"dataframe\">\n",
       "  <thead>\n",
       "    <tr style=\"text-align: right;\">\n",
       "      <th></th>\n",
       "      <th>strategy_nav</th>\n",
       "      <th>相对净值表现</th>\n",
       "    </tr>\n",
       "  </thead>\n",
       "  <tbody>\n",
       "    <tr>\n",
       "      <th>start_date</th>\n",
       "      <td>2007-04-20</td>\n",
       "      <td>2007-04-20</td>\n",
       "    </tr>\n",
       "    <tr>\n",
       "      <th>end_date</th>\n",
       "      <td>2020-10-28</td>\n",
       "      <td>2020-10-28</td>\n",
       "    </tr>\n",
       "    <tr>\n",
       "      <th>annual_return</th>\n",
       "      <td>0.207123</td>\n",
       "      <td>0.165967</td>\n",
       "    </tr>\n",
       "    <tr>\n",
       "      <th>return_volatility</th>\n",
       "      <td>0.307018</td>\n",
       "      <td>0.158554</td>\n",
       "    </tr>\n",
       "    <tr>\n",
       "      <th>sharpe_ratio</th>\n",
       "      <td>0.0483546</td>\n",
       "      <td>0.0660237</td>\n",
       "    </tr>\n",
       "    <tr>\n",
       "      <th>max_drawdown</th>\n",
       "      <td>-0.637219</td>\n",
       "      <td>-0.274536</td>\n",
       "    </tr>\n",
       "  </tbody>\n",
       "</table>\n",
       "</div>"
      ],
      "text/plain": [
       "                  strategy_nav      相对净值表现\n",
       "start_date          2007-04-20  2007-04-20\n",
       "end_date            2020-10-28  2020-10-28\n",
       "annual_return         0.207123    0.165967\n",
       "return_volatility     0.307018    0.158554\n",
       "sharpe_ratio         0.0483546   0.0660237\n",
       "max_drawdown         -0.637219   -0.274536"
      ]
     },
     "execution_count": 67,
     "metadata": {},
     "output_type": "execute_result"
    }
   ],
   "source": [
    "pd.concat([strategy_performance(strategy_nav),strategy_performance(relative_nav)], axis=1)"
   ]
  },
  {
   "cell_type": "code",
   "execution_count": 68,
   "metadata": {},
   "outputs": [
    {
     "data": {
      "text/html": [
       "<div>\n",
       "<style scoped>\n",
       "    .dataframe tbody tr th:only-of-type {\n",
       "        vertical-align: middle;\n",
       "    }\n",
       "\n",
       "    .dataframe tbody tr th {\n",
       "        vertical-align: top;\n",
       "    }\n",
       "\n",
       "    .dataframe thead th {\n",
       "        text-align: right;\n",
       "    }\n",
       "</style>\n",
       "<table border=\"1\" class=\"dataframe\">\n",
       "  <thead>\n",
       "    <tr style=\"text-align: right;\">\n",
       "      <th></th>\n",
       "      <th>start_date</th>\n",
       "      <th>end_date</th>\n",
       "      <th>annual_return</th>\n",
       "      <th>return_volatility</th>\n",
       "      <th>sharpe_ratio</th>\n",
       "      <th>max_drawdown</th>\n",
       "    </tr>\n",
       "  </thead>\n",
       "  <tbody>\n",
       "    <tr>\n",
       "      <th>2007</th>\n",
       "      <td>2007-04-20</td>\n",
       "      <td>2007-12-28</td>\n",
       "      <td>1.05162</td>\n",
       "      <td>0.372733</td>\n",
       "      <td>0.133419</td>\n",
       "      <td>-0.213124</td>\n",
       "    </tr>\n",
       "    <tr>\n",
       "      <th>2008</th>\n",
       "      <td>2008-01-02</td>\n",
       "      <td>2008-12-31</td>\n",
       "      <td>-0.509992</td>\n",
       "      <td>0.455451</td>\n",
       "      <td>-0.0842489</td>\n",
       "      <td>-0.637219</td>\n",
       "    </tr>\n",
       "    <tr>\n",
       "      <th>2009</th>\n",
       "      <td>2009-01-05</td>\n",
       "      <td>2009-12-31</td>\n",
       "      <td>0.99811</td>\n",
       "      <td>0.297908</td>\n",
       "      <td>0.155975</td>\n",
       "      <td>-0.163635</td>\n",
       "    </tr>\n",
       "    <tr>\n",
       "      <th>2010</th>\n",
       "      <td>2010-01-04</td>\n",
       "      <td>2010-12-31</td>\n",
       "      <td>0.264575</td>\n",
       "      <td>0.27558</td>\n",
       "      <td>0.0623517</td>\n",
       "      <td>-0.189407</td>\n",
       "    </tr>\n",
       "    <tr>\n",
       "      <th>2011</th>\n",
       "      <td>2011-01-04</td>\n",
       "      <td>2011-12-30</td>\n",
       "      <td>-0.314519</td>\n",
       "      <td>0.23245</td>\n",
       "      <td>-0.0949459</td>\n",
       "      <td>-0.320351</td>\n",
       "    </tr>\n",
       "    <tr>\n",
       "      <th>2012</th>\n",
       "      <td>2012-01-04</td>\n",
       "      <td>2012-12-31</td>\n",
       "      <td>0.216006</td>\n",
       "      <td>0.23833</td>\n",
       "      <td>0.0591804</td>\n",
       "      <td>-0.171319</td>\n",
       "    </tr>\n",
       "    <tr>\n",
       "      <th>2013</th>\n",
       "      <td>2013-01-04</td>\n",
       "      <td>2013-12-31</td>\n",
       "      <td>0.404722</td>\n",
       "      <td>0.274148</td>\n",
       "      <td>0.0867585</td>\n",
       "      <td>-0.144153</td>\n",
       "    </tr>\n",
       "    <tr>\n",
       "      <th>2014</th>\n",
       "      <td>2014-01-02</td>\n",
       "      <td>2014-12-31</td>\n",
       "      <td>0.372541</td>\n",
       "      <td>0.243378</td>\n",
       "      <td>0.0897065</td>\n",
       "      <td>-0.22536</td>\n",
       "    </tr>\n",
       "    <tr>\n",
       "      <th>2015</th>\n",
       "      <td>2015-01-05</td>\n",
       "      <td>2015-12-31</td>\n",
       "      <td>1.03123</td>\n",
       "      <td>0.418831</td>\n",
       "      <td>0.119962</td>\n",
       "      <td>-0.454215</td>\n",
       "    </tr>\n",
       "    <tr>\n",
       "      <th>2016</th>\n",
       "      <td>2016-01-04</td>\n",
       "      <td>2016-12-30</td>\n",
       "      <td>-0.0149678</td>\n",
       "      <td>0.339525</td>\n",
       "      <td>0.00799947</td>\n",
       "      <td>-0.25187</td>\n",
       "    </tr>\n",
       "    <tr>\n",
       "      <th>2017</th>\n",
       "      <td>2017-01-03</td>\n",
       "      <td>2017-12-29</td>\n",
       "      <td>0.254418</td>\n",
       "      <td>0.172066</td>\n",
       "      <td>0.0884348</td>\n",
       "      <td>-0.0930609</td>\n",
       "    </tr>\n",
       "    <tr>\n",
       "      <th>2018</th>\n",
       "      <td>2018-01-02</td>\n",
       "      <td>2018-12-28</td>\n",
       "      <td>-0.345071</td>\n",
       "      <td>0.274715</td>\n",
       "      <td>-0.0883463</td>\n",
       "      <td>-0.367832</td>\n",
       "    </tr>\n",
       "    <tr>\n",
       "      <th>2019</th>\n",
       "      <td>2019-01-02</td>\n",
       "      <td>2019-12-31</td>\n",
       "      <td>0.890131</td>\n",
       "      <td>0.238384</td>\n",
       "      <td>0.175906</td>\n",
       "      <td>-0.144035</td>\n",
       "    </tr>\n",
       "    <tr>\n",
       "      <th>2020</th>\n",
       "      <td>2020-01-02</td>\n",
       "      <td>2020-10-28</td>\n",
       "      <td>0.475194</td>\n",
       "      <td>0.340659</td>\n",
       "      <td>0.0827346</td>\n",
       "      <td>-0.275834</td>\n",
       "    </tr>\n",
       "  </tbody>\n",
       "</table>\n",
       "</div>"
      ],
      "text/plain": [
       "      start_date    end_date annual_return return_volatility sharpe_ratio  \\\n",
       "2007  2007-04-20  2007-12-28       1.05162          0.372733     0.133419   \n",
       "2008  2008-01-02  2008-12-31     -0.509992          0.455451   -0.0842489   \n",
       "2009  2009-01-05  2009-12-31       0.99811          0.297908     0.155975   \n",
       "2010  2010-01-04  2010-12-31      0.264575           0.27558    0.0623517   \n",
       "2011  2011-01-04  2011-12-30     -0.314519           0.23245   -0.0949459   \n",
       "2012  2012-01-04  2012-12-31      0.216006           0.23833    0.0591804   \n",
       "2013  2013-01-04  2013-12-31      0.404722          0.274148    0.0867585   \n",
       "2014  2014-01-02  2014-12-31      0.372541          0.243378    0.0897065   \n",
       "2015  2015-01-05  2015-12-31       1.03123          0.418831     0.119962   \n",
       "2016  2016-01-04  2016-12-30    -0.0149678          0.339525   0.00799947   \n",
       "2017  2017-01-03  2017-12-29      0.254418          0.172066    0.0884348   \n",
       "2018  2018-01-02  2018-12-28     -0.345071          0.274715   -0.0883463   \n",
       "2019  2019-01-02  2019-12-31      0.890131          0.238384     0.175906   \n",
       "2020  2020-01-02  2020-10-28      0.475194          0.340659    0.0827346   \n",
       "\n",
       "     max_drawdown  \n",
       "2007    -0.213124  \n",
       "2008    -0.637219  \n",
       "2009    -0.163635  \n",
       "2010    -0.189407  \n",
       "2011    -0.320351  \n",
       "2012    -0.171319  \n",
       "2013    -0.144153  \n",
       "2014     -0.22536  \n",
       "2015    -0.454215  \n",
       "2016     -0.25187  \n",
       "2017   -0.0930609  \n",
       "2018    -0.367832  \n",
       "2019    -0.144035  \n",
       "2020    -0.275834  "
      ]
     },
     "execution_count": 68,
     "metadata": {},
     "output_type": "execute_result"
    }
   ],
   "source": [
    "get_return_year(strategy_nav)"
   ]
  },
  {
   "cell_type": "markdown",
   "metadata": {},
   "source": [
    "### Step 6：研究结果总结"
   ]
  },
  {
   "cell_type": "markdown",
   "metadata": {},
   "source": [
    ">总体而言，基于公募基金持仓数据能够获取表现不错的超额年化收益。07年至今年化收益约20%，相较中证800的超额年化收益约16%。\n",
    "\n",
    ">通过上表可以看到在07,09,13,14,15,17,19和20年该策略均取得了30%以上的收益表现，但在08,11和18年产生了大于30%的跌幅。通过策略整体的夏普率和最大回撤等表现也可以看出，仅仅基于公募持仓数据构建的因子策略在时间序列上的表现不太稳定。\n",
    "\n",
    ">后续的优化空间：在获取优选基金的股票持仓池后，除了使用基金持仓数据本身构建的因子外，可以加入其它如成长、分析师预期、价量、另类数据等多维度因子，提高策略的稳健性（减小波动和回撤）和灵活性（提高调仓频率）。"
   ]
  },
  {
   "cell_type": "markdown",
   "metadata": {},
   "source": [
    "_参考报告：_\n",
    "\n",
    "1. 国信证券：基于优秀基金持仓的业绩增强策略 2020.11.15\n",
    "2. 华安证券：透视机构抱团行为，量化视角全面解析——基金研究系列之一 2020.09.29\n",
    "3. 国盛证券：多因子系列之十三：基金重仓股研究 2020.09.07\n",
    "4. 海通证券：选股因子系列研究（六十八）——基金重仓超配因子及其对指数增强组合的影响 2020.07.07"
   ]
  }
 ],
 "metadata": {
  "kernelspec": {
   "display_name": "Python 3",
   "language": "python",
   "name": "python3"
  },
  "language_info": {
   "codemirror_mode": {
    "name": "ipython",
    "version": 3
   },
   "file_extension": ".py",
   "mimetype": "text/x-python",
   "name": "python",
   "nbconvert_exporter": "python",
   "pygments_lexer": "ipython3",
   "version": "3.7.6"
  }
 },
 "nbformat": 4,
 "nbformat_minor": 4
}
